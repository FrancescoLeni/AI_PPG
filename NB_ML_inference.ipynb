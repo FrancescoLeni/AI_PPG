{
 "cells": [
  {
   "cell_type": "code",
   "execution_count": 4,
   "metadata": {},
   "outputs": [],
   "source": [
    "import os\n",
    "from tqdm import tqdm\n",
    "from ML_extract_features import FeatureConstructor"
   ]
  },
  {
   "cell_type": "code",
   "execution_count": 5,
   "metadata": {},
   "outputs": [],
   "source": [
    "current_directory = os.path.dirname(os.path.abspath('__file__'))\n",
    "folder_name = 'dataset/data/'\n",
    "input_folder = os.path.join(current_directory, folder_name)\n",
    "\n",
    "output_folder = os.path.join(current_directory, 'ML_test')"
   ]
  },
  {
   "cell_type": "code",
   "execution_count": 6,
   "metadata": {},
   "outputs": [],
   "source": [
    "train_numbers = [54, 17, 96, 119, 103, 57, 24, 8, 89, 80, 39, 16, 121, 48, 106, 44, 11, 49, 117, 91, 98, 33, 9, 114, 90, 110, 104, 85, 5, 27, 52, 18, 58, 50, 86, 101, 21, 19, 20, 109, 42, 25, 84, 26, 47, 102, 112, 14, 22, 46, 118, 94, 15, 37, 105, 2, 32, 23, 115, 87, 81, 7, 56, 38, 10, 45, 108, 34, 41, 31, 116, 6]\n",
    "validation_numbers = [36, 97, 60, 28, 40, 100, 3, 83, 111, 62, 12, 61, 59, 4, 55]\n",
    "test_numbers = [53, 51, 79, 1, 29, 30, 93, 82, 35, 43, 92, 99, 95, 88, 113, 13]"
   ]
  },
  {
   "cell_type": "code",
   "execution_count": 8,
   "metadata": {},
   "outputs": [
    {
     "name": "stdout",
     "output_type": "stream",
     "text": [
      "['053', '051', '079', '001', '029', '030', '093', '082', '035', '043', '092', '099', '095', '088', '113', '013']\n"
     ]
    }
   ],
   "source": [
    "test_check = [f\"{number:03}\" for number in test_numbers]\n",
    "print(test_check)"
   ]
  },
  {
   "cell_type": "code",
   "execution_count": 11,
   "metadata": {},
   "outputs": [
    {
     "ename": "UnboundLocalError",
     "evalue": "cannot access local variable 'patient' where it is not associated with a value",
     "output_type": "error",
     "traceback": [
      "\u001b[1;31m---------------------------------------------------------------------------\u001b[0m",
      "\u001b[1;31mUnboundLocalError\u001b[0m                         Traceback (most recent call last)",
      "Cell \u001b[1;32mIn[11], line 1\u001b[0m\n\u001b[1;32m----> 1\u001b[0m files_input \u001b[38;5;241m=\u001b[39m \u001b[43m[\u001b[49m\u001b[43mfile_name\u001b[49m\u001b[43m \u001b[49m\u001b[38;5;28;43;01mfor\u001b[39;49;00m\u001b[43m \u001b[49m\u001b[43mfile_name\u001b[49m\u001b[43m \u001b[49m\u001b[38;5;129;43;01min\u001b[39;49;00m\u001b[43m \u001b[49m\u001b[43mos\u001b[49m\u001b[38;5;241;43m.\u001b[39;49m\u001b[43mlistdir\u001b[49m\u001b[43m(\u001b[49m\u001b[43minput_folder\u001b[49m\u001b[43m)\u001b[49m\u001b[43m \u001b[49m\u001b[38;5;28;43;01mif\u001b[39;49;00m\u001b[43m \u001b[49m\u001b[43mpatient\u001b[49m\u001b[43m \u001b[49m\u001b[38;5;129;43;01min\u001b[39;49;00m\u001b[43m \u001b[49m\u001b[43mfile_name\u001b[49m\u001b[43m \u001b[49m\u001b[38;5;28;43;01mfor\u001b[39;49;00m\u001b[43m \u001b[49m\u001b[43mpatient\u001b[49m\u001b[43m \u001b[49m\u001b[38;5;129;43;01min\u001b[39;49;00m\u001b[43m \u001b[49m\u001b[43mtest_check\u001b[49m\u001b[43m]\u001b[49m\n\u001b[0;32m      2\u001b[0m \u001b[38;5;28mprint\u001b[39m(files_input)\n",
      "Cell \u001b[1;32mIn[11], line 1\u001b[0m, in \u001b[0;36m<listcomp>\u001b[1;34m(.0)\u001b[0m\n\u001b[1;32m----> 1\u001b[0m files_input \u001b[38;5;241m=\u001b[39m [file_name \u001b[38;5;28;01mfor\u001b[39;00m file_name \u001b[38;5;129;01min\u001b[39;00m os\u001b[38;5;241m.\u001b[39mlistdir(input_folder) \u001b[38;5;28;01mif\u001b[39;00m \u001b[43mpatient\u001b[49m \u001b[38;5;129;01min\u001b[39;00m file_name \u001b[38;5;28;01mfor\u001b[39;00m patient \u001b[38;5;129;01min\u001b[39;00m test_check]\n\u001b[0;32m      2\u001b[0m \u001b[38;5;28mprint\u001b[39m(files_input)\n",
      "\u001b[1;31mUnboundLocalError\u001b[0m: cannot access local variable 'patient' where it is not associated with a value"
     ]
    }
   ],
   "source": [
    "files_input = [file_name for file_name in os.listdir(input_folder) if patient in file_name for patient in test_check]\n",
    "print(files_input)"
   ]
  },
  {
   "cell_type": "code",
   "execution_count": null,
   "metadata": {},
   "outputs": [],
   "source": [
    "for file_name in tqdm(os.listdir(input_folder)):\n",
    "    if file_name\n",
    "\n",
    "    # if compute:\n",
    "    print(file_name)\n",
    "    print('scratch')\n",
    "    recording = FeatureConstructor(file_name)\n",
    "    recording.get_intra_crop_features()\n",
    "    recording.get_inter_crop_features()\n",
    "    recording.get_patient_specific_features()\n",
    "    recording.construct_dataframe(out_file='')\n",
    "        \n",
    "process_files(target_files)"
   ]
  }
 ],
 "metadata": {
  "kernelspec": {
   "display_name": "ppg",
   "language": "python",
   "name": "python3"
  },
  "language_info": {
   "codemirror_mode": {
    "name": "ipython",
    "version": 3
   },
   "file_extension": ".py",
   "mimetype": "text/x-python",
   "name": "python",
   "nbconvert_exporter": "python",
   "pygments_lexer": "ipython3",
   "version": "3.11.7"
  }
 },
 "nbformat": 4,
 "nbformat_minor": 2
}
