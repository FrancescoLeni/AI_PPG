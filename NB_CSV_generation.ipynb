{
 "cells": [
  {
   "cell_type": "code",
   "execution_count": 26,
   "metadata": {},
   "outputs": [],
   "source": [
    "# Import packages\n",
    "import numpy as np\n",
    "import pandas as pd\n",
    "\n",
    "from utils.dataloaders import OneSignal\n",
    "from utils import random_state\n",
    "# import random\n",
    "\n",
    "random_state(36)"
   ]
  },
  {
   "cell_type": "code",
   "execution_count": 22,
   "metadata": {},
   "outputs": [
    {
     "ename": "SyntaxError",
     "evalue": "invalid syntax (163233856.py, line 43)",
     "output_type": "error",
     "traceback": [
      "\u001b[1;36m  Cell \u001b[1;32mIn[22], line 43\u001b[1;36m\u001b[0m\n\u001b[1;33m    self.\u001b[0m\n\u001b[1;37m         ^\u001b[0m\n\u001b[1;31mSyntaxError\u001b[0m\u001b[1;31m:\u001b[0m invalid syntax\n"
     ]
    }
   ],
   "source": [
    "class FeatureConstructor:\n",
    "    def __init__(self, data_name=None):\n",
    "        \"\"\"\n",
    "        :param\n",
    "            --data_name: filename like 'S001_128.mat' or tuple (data_path,label_path,peaks_path)\n",
    "        \"\"\"\n",
    "        # Initialize class arguments\n",
    "        self.data_name = data_name\n",
    "\n",
    "        # Get information for patient with data_name\n",
    "        self.signal = OneSignal(data_name=self.data_name)\n",
    "        # Filter the PPG signal\n",
    "        self.signal.filter(fL = 0.5, fH = 4.3, order = 4)\n",
    "        # Align onsets to determine crops: always 1 peak between 2 onsets\n",
    "        self.signal.align_onsets()\n",
    "\n",
    "        # Set attributes of FeatureExtractor\n",
    "        self.ppg = self.signal.ppg              # get filtered ppg and derivatives\n",
    "        self.vpg = self.signal.vpg\n",
    "        self.apg = self.signal.apg\n",
    "        self.jpg = self.signal.jpg\n",
    "        self.fs = self.signal.fs                # sampling frequency                        --> int\n",
    "        self.peaks = self.signal.peaks.flatten()# peaks array                               --> (number_of_peaks,)\n",
    "        self.labels = self.signal.labels        # labels                                    --> (number_of_peaks,)\n",
    "        self.onsets = self.signal.on            # determined by self.signal.align_onsets()  --> (number_of_peaks+1,)\n",
    "\n",
    "\n",
    "    def get_intra_crop_features(self):\n",
    "        \"\"\n",
    "        self.ft_intra_crop_names = ['crop_duration','mean','median','std','var','skew','kurt','auc','peak_amplitude','pulse_width','symmetry','t_peak']\n",
    "        self.ft_intra_crop = np.array([])\n",
    "\n",
    "\n",
    "    def get_inter_crop_features(self):\n",
    "        \"\"\n",
    "        self.ft_inter_crop_names = ['PTP','N_last_X_s']\n",
    "        self.ft_inter_crop = np.array([])\n",
    "\n",
    "    def get_patient_specific_features(self):\n",
    "        \"\"\n",
    "        self.ft_patient_names = []\n",
    "        self.ft_patient = np.array([])\n",
    "\n",
    "    def construct_dataframe(self):\n",
    "        # Get features\n",
    "        features = np.concatenate([self.ft_intra_crop, self.ft_inter_crop, self.ft_patient])\n",
    "\n",
    "        # Create a DataFrame\n",
    "        data = {'peaks': self.peaks, 'labels': self.labels}\n",
    "        for i, feature_name in enumerate(self.feature_names):\n",
    "            data[feature_name] = features[:, i]\n",
    "\n",
    "        df = pd.DataFrame(data)\n",
    "        df.to_csv('your_dataframe.csv', index=False)\n",
    "\n",
    "\n",
    "\n",
    "\n",
    "\n"
   ]
  },
  {
   "cell_type": "code",
   "execution_count": 19,
   "metadata": {},
   "outputs": [
    {
     "name": "stdout",
     "output_type": "stream",
     "text": [
      "filtering signal S001_128.mat...\n"
     ]
    }
   ],
   "source": [
    "patient = FeatureConstructor('S001_128.mat')"
   ]
  },
  {
   "cell_type": "code",
   "execution_count": 20,
   "metadata": {},
   "outputs": [
    {
     "data": {
      "text/plain": [
       "(2603,)"
      ]
     },
     "execution_count": 20,
     "metadata": {},
     "output_type": "execute_result"
    }
   ],
   "source": [
    "patient.peaks.shape\n",
    "# patient.labels.shape\n",
    "# patient.onsets.shape"
   ]
  },
  {
   "cell_type": "code",
   "execution_count": 21,
   "metadata": {},
   "outputs": [
    {
     "data": {
      "text/plain": [
       "128"
      ]
     },
     "execution_count": 21,
     "metadata": {},
     "output_type": "execute_result"
    }
   ],
   "source": [
    "patient.fs"
   ]
  },
  {
   "cell_type": "code",
   "execution_count": null,
   "metadata": {},
   "outputs": [],
   "source": []
  }
 ],
 "metadata": {
  "kernelspec": {
   "display_name": "ppg",
   "language": "python",
   "name": "python3"
  },
  "language_info": {
   "codemirror_mode": {
    "name": "ipython",
    "version": 3
   },
   "file_extension": ".py",
   "mimetype": "text/x-python",
   "name": "python",
   "nbconvert_exporter": "python",
   "pygments_lexer": "ipython3",
   "version": "3.11.7"
  }
 },
 "nbformat": 4,
 "nbformat_minor": 2
}
