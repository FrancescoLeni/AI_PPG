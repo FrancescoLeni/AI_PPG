{
 "cells": [
  {
   "cell_type": "code",
   "execution_count": 37,
   "metadata": {},
   "outputs": [],
   "source": [
    "# Import packages\n",
    "from preprocessing.filtering import Preprocess\n",
    "from preprocessing.fiducials import FpCollection\n",
    "from preprocessing import PPG\n",
    "\n",
    "from preprocessing import Fiducials, Biomarkers\n",
    "import pyPPG.biomarkers as BM\n",
    "\n",
    "from sklearn.model_selection import train_test_split\n",
    "from sklearn.preprocessing import MinMaxScaler, LabelEncoder\n",
    "from pathlib import Path\n",
    "from dotmap import DotMap\n",
    "import numpy as np\n",
    "import pandas as pd\n",
    "import scipy.io\n",
    "import random\n",
    "import os\n",
    "import h5py"
   ]
  },
  {
   "cell_type": "code",
   "execution_count": 38,
   "metadata": {},
   "outputs": [],
   "source": [
    "data_path = \"dataset/data/S001_128.mat\" # the path of the file containing the PPG signal to be analysed\n",
    "start_sig = 0 # the first sample of the signal to be analysed\n",
    "end_sig = -1 # the last sample of the signal to be analysed (here a value of '-1' indicates the last sample)\n",
    "savingfolder = 'temp_dir'\n",
    "savingformat = 'csv'\n",
    "\n",
    "# Load raw PPG signal\n",
    "# signal = load_data(data_path=data_path, start_sig=start_sig, end_sig=end_sig, use_tk=False)"
   ]
  },
  {
   "cell_type": "code",
   "execution_count": 802,
   "metadata": {},
   "outputs": [],
   "source": [
    "class OneSignal:\n",
    "    def __init__(self, data_name = None):\n",
    "        \"\"\"\n",
    "        :param\n",
    "            --data_name: filename like 'S001_128.mat' or tuple (data_path,label_path,peaks_path)\n",
    "        \"\"\"\n",
    "        super().__init__()\n",
    "        parent = 'dataset'\n",
    "        child = [\"data\", \"label\", \"peaks\"]\n",
    "        if not isinstance(data_name,tuple):\n",
    "            self.data_path = os.path.join(parent, child[0], data_name)\n",
    "            self.label_path = os.path.join(parent, child[1], data_name)\n",
    "            self.peaks_path = os.path.join(parent, child[2], data_name)\n",
    "            self.name = data_name\n",
    "        else:\n",
    "            self.data_path = data_name[0]\n",
    "            self.label_path = data_name[1]\n",
    "            self.peaks_path = data_name[2]\n",
    "            self.name = data_name[0].split('.')[0][-8:]\n",
    "\n",
    "        self.raw = scipy.io.loadmat(self.data_path)['ppg']\n",
    "        self.fs = int(self.data_path.split('.')[0][-3:])\n",
    "        self.ppg = \"call .filter() to calculate\"\n",
    "        self.vpg = \"call .filter() to calculate\"\n",
    "        self.jpg = \"call .filter() to calculate\"\n",
    "        self.apg = \"call .filter() to calculate\"\n",
    "        # self.on = \"call .filter() to calculate\"\n",
    "        self.peaks = scipy.io.loadmat(self.peaks_path)['speaks']\n",
    "        self.labels = scipy.io.loadmat(self.label_path)['labels']\n",
    "\n",
    "        self.v = np.squeeze(self.raw)\n",
    "        correction = pd.DataFrame()\n",
    "        corr_on = ['on', 'dn', 'dp', 'v', 'w', 'f']\n",
    "        correction.loc[0, corr_on] = True\n",
    "        self.correction = correction\n",
    "\n",
    "        # Prepare onset alignment with provided peaks (from fiducials)\n",
    "        self.indx = 0 # peak to crop\n",
    "        self.indx_max = int(self.peaks.shape[0])\n",
    "\n",
    "    def filter(self, fL=0.8, fH=3.3, order=4, sm = {'ppg':50,'vpg':10,'apg':10,'jpg':10}, data_min= -90, data_max= 90):\n",
    "\n",
    "        print(f'filtering signal {self.name}...')\n",
    "        # Class which the functions need...\n",
    "        s = DotMap()\n",
    "        s.end_sig = -1\n",
    "        s.v = np.squeeze(self.raw)\n",
    "        s.fs = self.fs\n",
    "        s.filtering = True\n",
    "        s.name = self.name\n",
    "        corr_on = ['on', 'dn', 'dp', 'v', 'w', 'f']\n",
    "        correction = pd.DataFrame()\n",
    "        correction.loc[0, corr_on] = True\n",
    "        s.correct = correction\n",
    "\n",
    "        # Filters signal through BP filter [fL,fH]\n",
    "        prep = Preprocess(fL=fL, fH=fH, order=order, sm_wins=sm)\n",
    "        s.ppg, s.vpg, s.apg, s.jpg = prep.get_signals(s=s)\n",
    "        self.ppg = s.ppg\n",
    "        self.vpg = s.vpg\n",
    "        self.apg = s.apg\n",
    "        self.jpg = s.jpg\n",
    "\n",
    "        self.s = PPG(s)\n",
    "\n",
    "    def get_fiducials(self):\n",
    "        # Initialize fiducials package\n",
    "        fpex = FpCollection(s=self.s)\n",
    "        # Extract fiducial points (e.g. 'on': peak onsets)\n",
    "        fiducials = fpex.get_fiducials(s=self.s, ext_peaks=self.peaks)\n",
    "        # Create a fiducials class\n",
    "        self.fp = Fiducials(fiducials)\n",
    "\n",
    "    def get_biomarkers(self):\n",
    "        # Initialize biomarkers package\n",
    "        bmex = BM.BmCollection(s=self.s, fp=self.fp)\n",
    "        # Extract biomarkers\n",
    "        bm_defs, bm_vals, bm_stats = bmex.get_biomarkers()\n",
    "\n",
    "        # tmp_keys=bm_stats.keys()\n",
    "        # print('Statistics of the biomarkers:')\n",
    "        # for i in tmp_keys: print(i,'\\n',bm_stats[i])\n",
    "\n",
    "        # Create a biomarkers class\n",
    "        self.bm = Biomarkers(bm_defs, bm_vals, bm_stats)\n",
    "\n",
    "    # def align_onsets(self):\n",
    "    #     # Prepare onset alignment with provided peaks (from fiducials)\n",
    "    #     self.on = list(self.fp.get_fp().on) # here i'm wasting a lot more points (and time for calculating them...)\n",
    "\n",
    "    #     # Former add_onsets() method\n",
    "    #     k = 0\n",
    "    #     o = []\n",
    "    #     for i in range(len(self.on) - 1):\n",
    "    #         o.append(self.on[i])\n",
    "    #         o2 = self.on[i + 1]\n",
    "    #         p = self.peaks[k]\n",
    "    #         p2 = self.peaks[k + 1]\n",
    "    #         p3 = self.peaks[k + 2]\n",
    "    #         k += 1\n",
    "    #         # Scenario where less onsets detected than needed for provided peaks\n",
    "    #         if p2 < o2:\n",
    "    #             o.append(int((p + p2) // 2))\n",
    "    #             k += 1\n",
    "    #             if p3 < o2:\n",
    "    #                 o.append(int((p3 + p2) // 2))\n",
    "    #                 k += 1\n",
    "    #         # Last peak scenario\n",
    "    #         if i == (len(self.on) - 2):\n",
    "    #             o.append(o2)\n",
    "    #     #\n",
    "    #     if o[-1] < self.peaks[-3]:\n",
    "    #         o.append(int((self.peaks[-4] + self.peaks[-3]) // 2))\n",
    "    #     if o[-1] < self.peaks[-2]:\n",
    "    #         o.append(int((self.peaks[-3]+self.peaks[-2]) // 2))\n",
    "    #     if o[-1] < self.peaks[-1]:\n",
    "    #         o.append(int((self.peaks[-2] + self.peaks[-1]) // 2))\n",
    "    #     o.append(int(len(self.ppg)-1))\n",
    "\n",
    "    #     # Filter out multiple onsets in between peaks\n",
    "    #     i = 0\n",
    "    #     j = 0\n",
    "    #     result_onsets = []\n",
    "\n",
    "    #     # Check and append onset before the first peak\n",
    "    #     if o[j] < self.peaks[0]:\n",
    "    #         result_onsets.append(o[j])\n",
    "    #         j += 1\n",
    "    #     else:\n",
    "    #         # If the first onset is already after the first peak, append 0 as the starting point\n",
    "    #         result_onsets.append(0)\n",
    "\n",
    "    #     while i < len(self.peaks) - 1 and j < len(o):\n",
    "    #         if o[j] < self.peaks[i + 1]:\n",
    "    #             # If there's a second onset and it's closer to the next peak than the first onset\n",
    "    #             if j + 1 < len(o) and o[j + 1] < self.peaks[i + 1] and self.peaks[i + 1] - o[j + 1] < self.peaks[i + 1] - o[j]:\n",
    "    #                 print('skipped: ', o[j])\n",
    "    #                 j += 1\n",
    "    #                 continue\n",
    "    #             result_onsets.append(o[j])\n",
    "    #             j += 1\n",
    "    #         else:\n",
    "    #             i += 1\n",
    "\n",
    "    #     result_onsets.extend(o[j:])\n",
    "\n",
    "    #     self.on = np.array(result_onsets, dtype=int)\n",
    "    def align_onsets(self):\n",
    "        # Prepare onset alignment with provided peaks (from fiducials)\n",
    "        self.on = list(self.fp.get_fp().on) # here i'm wasting a lot more points (and time for calculating them...)\n",
    "\n",
    "        k = 0\n",
    "        o = []\n",
    "        for i in range(len(self.on) - 1):\n",
    "            o.append(self.on[i])\n",
    "            o2 = self.on[i + 1]\n",
    "            p = self.peaks[k]\n",
    "            p2 = self.peaks[k + 1]\n",
    "            p3 = self.peaks[k + 2]\n",
    "            k += 1\n",
    "            # Scenario where less onsets detected than needed for provided peaks\n",
    "            if p2 < o2:\n",
    "                o.append(int((p + p2) // 2))\n",
    "                k += 1\n",
    "                if p3 < o2:\n",
    "                    o.append(int((p3 + p2) // 2))\n",
    "                    k += 1\n",
    "            # Last peak scenario\n",
    "            if i == (len(self.on) - 2):\n",
    "                o.append(o2)\n",
    "        #\n",
    "        if o[-1] < self.peaks[-3]:\n",
    "            o.append(int((self.peaks[-4] + self.peaks[-3]) // 2))\n",
    "        if o[-1] < self.peaks[-2]:\n",
    "            o.append(int((self.peaks[-3]+self.peaks[-2]) // 2))\n",
    "        if o[-1] < self.peaks[-1]:\n",
    "            o.append(int((self.peaks[-2] + self.peaks[-1]) // 2))\n",
    "        o.append(int(len(self.ppg)-1))\n",
    "\n",
    "        self.on = np.array(o, dtype=int)\n",
    "\n",
    "#         self.on = list(fiducials['on'][:]) # here i'm wasting a lot more points (and time for calculating them...)\n",
    "\n",
    "#         self.add_onsets()\n",
    "\n",
    "#         self.normalize(data_min, data_max)\n",
    "\n",
    "#     def get_crops(self):\n",
    "\n",
    "#         crops = []\n",
    "#         labs = []\n",
    "#         while (self.indx < self.indx_max):\n",
    "#             x, y = self.crop()\n",
    "#             crops.append(x)\n",
    "#             labs.append(y)\n",
    "#         return (crops,labs)\n",
    "\n",
    "#     def normalize(self, data_min, data_max):\n",
    "#         new = self.ppg.reshape(-1, 1)\n",
    "#         scaler = MinMaxScaler()\n",
    "\n",
    "#         scaler.data_min_ = data_min\n",
    "#         scaler.data_max_ = data_max\n",
    "\n",
    "#         self.ppg = scaler.fit_transform(new)\n",
    "\n",
    "#     def add_onsets(self):\n",
    "#         k = 0\n",
    "#         o = []\n",
    "#         for i in range(len(self.on) - 1):\n",
    "#             o.append(self.on[i])\n",
    "#             o2 = self.on[i + 1]\n",
    "#             p = self.peaks[k]\n",
    "#             p2 = self.peaks[k + 1]\n",
    "#             p3 = self.peaks[k + 2]\n",
    "#             k += 1\n",
    "#             # Scenario where less onsets detected than needed for provided peaks\n",
    "#             if p2 < o2:\n",
    "#                 o.append(int((p + p2) // 2))\n",
    "#                 k += 1\n",
    "#                 if p3 < o2:\n",
    "#                     o.append(int((p3 + p2) // 2))\n",
    "#                     k += 1\n",
    "#             # Last peak scenario\n",
    "#             if i == (len(self.on) - 2):\n",
    "#                 o.append(o2)\n",
    "#         #\n",
    "#         if o[-1] < self.peaks[-3]:\n",
    "#             o.append(int((self.peaks[-4] + self.peaks[-3]) // 2))\n",
    "#         if o[-1] < self.peaks[-2]:\n",
    "#             o.append(int((self.peaks[-3]+self.peaks[-2]) // 2))\n",
    "#         if o[-1] < self.peaks[-1]:\n",
    "#             o.append(int((self.peaks[-2] + self.peaks[-1]) // 2))\n",
    "#         o.append(int(len(self.ppg)-1))\n",
    "\n",
    "#         self.on = np.array(o, dtype=int)\n",
    "\n",
    "\n",
    "#     def crop(self):\n",
    "\n",
    "#         crop = self.ppg[self.on[self.indx]:self.on[self.indx+1]]\n",
    "#         lab = self.labels[self.indx]\n",
    "#         self.indx+=1\n",
    "#         return (crop,lab)\n",
    "\n",
    "# ---------------------------------------------------------------------------------------------------------------------\n",
    "# class Crops():\n",
    "#     def __init__(self, N=\"N_crops.h5\", V=\"V_crops.h5\", S=\"S_crops.h5\", parent=Path('dataset/crops'), seed=36):\n",
    "#         super().__init__()\n",
    "#         names_list = [N,V,S]\n",
    "#         for names in names_list:\n",
    "#             print(f\"loading {names}...\")\n",
    "#             with h5py.File(parent / names, 'r') as file:\n",
    "#                 name = Path(names).stem\n",
    "#                 setattr(self, name, [file[key][:] for key in file.keys() if key != 'labels'])\n",
    "#                 setattr(self, f\"{name[0]}_labels\", list(file['labels'][:].astype('U')))\n",
    "\n",
    "#         self.seed = seed\n",
    "\n",
    "#     def split(self, test_size=.15):\n",
    "\n",
    "#         x = self.V_crops + self.S_crops + self.N_crops\n",
    "#         y = self.V_labels + self.S_labels + self.N_labels\n",
    "\n",
    "#         x_train_val, x_test, y_train_val, y_test = train_test_split(x, y, random_state=self.seed, test_size=test_size,\n",
    "#                                                                     shuffle=True, stratify=y)\n",
    "#         x_train, x_val, y_train, y_val = train_test_split(x_train_val, y_train_val, random_state=self.seed, test_size=len(x_test),\n",
    "#                                                                     shuffle=True, stratify=y_train_val)\n",
    "#         setattr(self,'train', [(x, y) for x, y in zip(x_train, y_train)])\n",
    "#         setattr(self,'val', [(x, y) for x, y in zip(x_val, y_val)])\n",
    "#         setattr(self,'test', [(x, y) for x, y in zip(x_test, y_test)])\n",
    "\n"
   ]
  },
  {
   "cell_type": "code",
   "execution_count": 803,
   "metadata": {},
   "outputs": [
    {
     "name": "stderr",
     "output_type": "stream",
     "text": [
      "C:\\Users\\robbe\\AppData\\Local\\Temp\\ipykernel_4948\\3870041150.py:34: FutureWarning: Setting an item of incompatible dtype is deprecated and will raise in a future error of pandas. Value 'True' has dtype incompatible with float64, please explicitly cast to a compatible dtype first.\n",
      "  correction.loc[0, corr_on] = True\n"
     ]
    }
   ],
   "source": [
    "data_name = \"S001_128.mat\"\n",
    "S001_128 = OneSignal(data_name)"
   ]
  },
  {
   "cell_type": "code",
   "execution_count": 804,
   "metadata": {},
   "outputs": [
    {
     "name": "stdout",
     "output_type": "stream",
     "text": [
      "filtering signal S001_128.mat...\n"
     ]
    },
    {
     "name": "stderr",
     "output_type": "stream",
     "text": [
      "C:\\Users\\robbe\\AppData\\Local\\Temp\\ipykernel_4948\\3870041150.py:53: FutureWarning: Setting an item of incompatible dtype is deprecated and will raise in a future error of pandas. Value 'True' has dtype incompatible with float64, please explicitly cast to a compatible dtype first.\n",
      "  correction.loc[0, corr_on] = True\n",
      "c:\\Users\\robbe\\OneDrive - UGent\\UGent\\Ma2\\Methods & Applications of AI in Biomedicine [I.C.]\\Applied AI in Biomedicine (Corino Valentina)\\AI_PPG\\preprocessing\\__init__.py:62: FutureWarning: Setting an item of incompatible dtype is deprecated and will raise in a future error of pandas. Value 'True' has dtype incompatible with float64, please explicitly cast to a compatible dtype first.\n",
      "  correction.loc[0, corr_on] = True\n"
     ]
    }
   ],
   "source": [
    "S001_128.filter()"
   ]
  },
  {
   "cell_type": "code",
   "execution_count": 805,
   "metadata": {},
   "outputs": [],
   "source": [
    "S001_128.get_fiducials()"
   ]
  },
  {
   "cell_type": "code",
   "execution_count": 575,
   "metadata": {},
   "outputs": [
    {
     "name": "stderr",
     "output_type": "stream",
     "text": [
      "c:\\Users\\robbe\\OneDrive - UGent\\UGent\\Ma2\\Methods & Applications of AI in Biomedicine [I.C.]\\Applied AI in Biomedicine (Corino Valentina)\\AI_PPG\\pyPPG\\ppg_bm\\bm_extraction.py:1288: FutureWarning: The behavior of DataFrame concatenation with empty or all-NA entries is deprecated. In a future version, this will no longer exclude empty or all-NA columns when determining the result dtypes. To retain the old behavior, exclude the relevant entries before the concat operation.\n",
      "  df_biomarkers.loc[i] = lst\n",
      "c:\\Users\\robbe\\OneDrive - UGent\\UGent\\Ma2\\Methods & Applications of AI in Biomedicine [I.C.]\\Applied AI in Biomedicine (Corino Valentina)\\AI_PPG\\pyPPG\\ppg_bm\\bm_extraction.py:1288: FutureWarning: The behavior of DataFrame concatenation with empty or all-NA entries is deprecated. In a future version, this will no longer exclude empty or all-NA columns when determining the result dtypes. To retain the old behavior, exclude the relevant entries before the concat operation.\n",
      "  df_biomarkers.loc[i] = lst\n",
      "c:\\Users\\robbe\\OneDrive - UGent\\UGent\\Ma2\\Methods & Applications of AI in Biomedicine [I.C.]\\Applied AI in Biomedicine (Corino Valentina)\\AI_PPG\\pyPPG\\ppg_bm\\bm_extraction.py:1288: FutureWarning: The behavior of DataFrame concatenation with empty or all-NA entries is deprecated. In a future version, this will no longer exclude empty or all-NA columns when determining the result dtypes. To retain the old behavior, exclude the relevant entries before the concat operation.\n",
      "  df_biomarkers.loc[i] = lst\n",
      "c:\\Users\\robbe\\OneDrive - UGent\\UGent\\Ma2\\Methods & Applications of AI in Biomedicine [I.C.]\\Applied AI in Biomedicine (Corino Valentina)\\AI_PPG\\pyPPG\\ppg_bm\\bm_extraction.py:1288: FutureWarning: The behavior of DataFrame concatenation with empty or all-NA entries is deprecated. In a future version, this will no longer exclude empty or all-NA columns when determining the result dtypes. To retain the old behavior, exclude the relevant entries before the concat operation.\n",
      "  df_biomarkers.loc[i] = lst\n",
      "c:\\Users\\robbe\\OneDrive - UGent\\UGent\\Ma2\\Methods & Applications of AI in Biomedicine [I.C.]\\Applied AI in Biomedicine (Corino Valentina)\\AI_PPG\\pyPPG\\ppg_bm\\bm_extraction.py:1288: FutureWarning: The behavior of DataFrame concatenation with empty or all-NA entries is deprecated. In a future version, this will no longer exclude empty or all-NA columns when determining the result dtypes. To retain the old behavior, exclude the relevant entries before the concat operation.\n",
      "  df_biomarkers.loc[i] = lst\n",
      "c:\\Users\\robbe\\OneDrive - UGent\\UGent\\Ma2\\Methods & Applications of AI in Biomedicine [I.C.]\\Applied AI in Biomedicine (Corino Valentina)\\AI_PPG\\pyPPG\\ppg_bm\\bm_extraction.py:1288: FutureWarning: The behavior of DataFrame concatenation with empty or all-NA entries is deprecated. In a future version, this will no longer exclude empty or all-NA columns when determining the result dtypes. To retain the old behavior, exclude the relevant entries before the concat operation.\n",
      "  df_biomarkers.loc[i] = lst\n",
      "c:\\Users\\robbe\\OneDrive - UGent\\UGent\\Ma2\\Methods & Applications of AI in Biomedicine [I.C.]\\Applied AI in Biomedicine (Corino Valentina)\\AI_PPG\\pyPPG\\ppg_bm\\bm_extraction.py:1288: FutureWarning: The behavior of DataFrame concatenation with empty or all-NA entries is deprecated. In a future version, this will no longer exclude empty or all-NA columns when determining the result dtypes. To retain the old behavior, exclude the relevant entries before the concat operation.\n",
      "  df_biomarkers.loc[i] = lst\n",
      "c:\\Users\\robbe\\OneDrive - UGent\\UGent\\Ma2\\Methods & Applications of AI in Biomedicine [I.C.]\\Applied AI in Biomedicine (Corino Valentina)\\AI_PPG\\pyPPG\\ppg_bm\\bm_extraction.py:1288: FutureWarning: The behavior of DataFrame concatenation with empty or all-NA entries is deprecated. In a future version, this will no longer exclude empty or all-NA columns when determining the result dtypes. To retain the old behavior, exclude the relevant entries before the concat operation.\n",
      "  df_biomarkers.loc[i] = lst\n",
      "c:\\Users\\robbe\\OneDrive - UGent\\UGent\\Ma2\\Methods & Applications of AI in Biomedicine [I.C.]\\Applied AI in Biomedicine (Corino Valentina)\\AI_PPG\\pyPPG\\ppg_bm\\bm_extraction.py:1288: FutureWarning: The behavior of DataFrame concatenation with empty or all-NA entries is deprecated. In a future version, this will no longer exclude empty or all-NA columns when determining the result dtypes. To retain the old behavior, exclude the relevant entries before the concat operation.\n",
      "  df_biomarkers.loc[i] = lst\n",
      "c:\\Users\\robbe\\OneDrive - UGent\\UGent\\Ma2\\Methods & Applications of AI in Biomedicine [I.C.]\\Applied AI in Biomedicine (Corino Valentina)\\AI_PPG\\pyPPG\\ppg_bm\\bm_extraction.py:1288: FutureWarning: The behavior of DataFrame concatenation with empty or all-NA entries is deprecated. In a future version, this will no longer exclude empty or all-NA columns when determining the result dtypes. To retain the old behavior, exclude the relevant entries before the concat operation.\n",
      "  df_biomarkers.loc[i] = lst\n",
      "c:\\Users\\robbe\\OneDrive - UGent\\UGent\\Ma2\\Methods & Applications of AI in Biomedicine [I.C.]\\Applied AI in Biomedicine (Corino Valentina)\\AI_PPG\\pyPPG\\ppg_bm\\bm_extraction.py:1288: FutureWarning: The behavior of DataFrame concatenation with empty or all-NA entries is deprecated. In a future version, this will no longer exclude empty or all-NA columns when determining the result dtypes. To retain the old behavior, exclude the relevant entries before the concat operation.\n",
      "  df_biomarkers.loc[i] = lst\n",
      "c:\\Users\\robbe\\OneDrive - UGent\\UGent\\Ma2\\Methods & Applications of AI in Biomedicine [I.C.]\\Applied AI in Biomedicine (Corino Valentina)\\AI_PPG\\pyPPG\\ppg_bm\\bm_extraction.py:1288: FutureWarning: The behavior of DataFrame concatenation with empty or all-NA entries is deprecated. In a future version, this will no longer exclude empty or all-NA columns when determining the result dtypes. To retain the old behavior, exclude the relevant entries before the concat operation.\n",
      "  df_biomarkers.loc[i] = lst\n",
      "c:\\Users\\robbe\\OneDrive - UGent\\UGent\\Ma2\\Methods & Applications of AI in Biomedicine [I.C.]\\Applied AI in Biomedicine (Corino Valentina)\\AI_PPG\\pyPPG\\ppg_bm\\bm_extraction.py:1288: FutureWarning: The behavior of DataFrame concatenation with empty or all-NA entries is deprecated. In a future version, this will no longer exclude empty or all-NA columns when determining the result dtypes. To retain the old behavior, exclude the relevant entries before the concat operation.\n",
      "  df_biomarkers.loc[i] = lst\n",
      "c:\\Users\\robbe\\OneDrive - UGent\\UGent\\Ma2\\Methods & Applications of AI in Biomedicine [I.C.]\\Applied AI in Biomedicine (Corino Valentina)\\AI_PPG\\pyPPG\\ppg_bm\\bm_extraction.py:1288: FutureWarning: The behavior of DataFrame concatenation with empty or all-NA entries is deprecated. In a future version, this will no longer exclude empty or all-NA columns when determining the result dtypes. To retain the old behavior, exclude the relevant entries before the concat operation.\n",
      "  df_biomarkers.loc[i] = lst\n",
      "c:\\Users\\robbe\\OneDrive - UGent\\UGent\\Ma2\\Methods & Applications of AI in Biomedicine [I.C.]\\Applied AI in Biomedicine (Corino Valentina)\\AI_PPG\\pyPPG\\ppg_bm\\bm_extraction.py:1288: FutureWarning: The behavior of DataFrame concatenation with empty or all-NA entries is deprecated. In a future version, this will no longer exclude empty or all-NA columns when determining the result dtypes. To retain the old behavior, exclude the relevant entries before the concat operation.\n",
      "  df_biomarkers.loc[i] = lst\n",
      "c:\\Users\\robbe\\OneDrive - UGent\\UGent\\Ma2\\Methods & Applications of AI in Biomedicine [I.C.]\\Applied AI in Biomedicine (Corino Valentina)\\AI_PPG\\pyPPG\\ppg_bm\\bm_extraction.py:1288: FutureWarning: The behavior of DataFrame concatenation with empty or all-NA entries is deprecated. In a future version, this will no longer exclude empty or all-NA columns when determining the result dtypes. To retain the old behavior, exclude the relevant entries before the concat operation.\n",
      "  df_biomarkers.loc[i] = lst\n",
      "c:\\Users\\robbe\\OneDrive - UGent\\UGent\\Ma2\\Methods & Applications of AI in Biomedicine [I.C.]\\Applied AI in Biomedicine (Corino Valentina)\\AI_PPG\\pyPPG\\ppg_bm\\bm_extraction.py:1288: FutureWarning: The behavior of DataFrame concatenation with empty or all-NA entries is deprecated. In a future version, this will no longer exclude empty or all-NA columns when determining the result dtypes. To retain the old behavior, exclude the relevant entries before the concat operation.\n",
      "  df_biomarkers.loc[i] = lst\n",
      "c:\\Users\\robbe\\OneDrive - UGent\\UGent\\Ma2\\Methods & Applications of AI in Biomedicine [I.C.]\\Applied AI in Biomedicine (Corino Valentina)\\AI_PPG\\pyPPG\\ppg_bm\\bm_extraction.py:1288: FutureWarning: The behavior of DataFrame concatenation with empty or all-NA entries is deprecated. In a future version, this will no longer exclude empty or all-NA columns when determining the result dtypes. To retain the old behavior, exclude the relevant entries before the concat operation.\n",
      "  df_biomarkers.loc[i] = lst\n",
      "c:\\Users\\robbe\\OneDrive - UGent\\UGent\\Ma2\\Methods & Applications of AI in Biomedicine [I.C.]\\Applied AI in Biomedicine (Corino Valentina)\\AI_PPG\\pyPPG\\ppg_bm\\bm_extraction.py:1288: FutureWarning: The behavior of DataFrame concatenation with empty or all-NA entries is deprecated. In a future version, this will no longer exclude empty or all-NA columns when determining the result dtypes. To retain the old behavior, exclude the relevant entries before the concat operation.\n",
      "  df_biomarkers.loc[i] = lst\n",
      "c:\\Users\\robbe\\OneDrive - UGent\\UGent\\Ma2\\Methods & Applications of AI in Biomedicine [I.C.]\\Applied AI in Biomedicine (Corino Valentina)\\AI_PPG\\pyPPG\\ppg_bm\\bm_extraction.py:1288: FutureWarning: The behavior of DataFrame concatenation with empty or all-NA entries is deprecated. In a future version, this will no longer exclude empty or all-NA columns when determining the result dtypes. To retain the old behavior, exclude the relevant entries before the concat operation.\n",
      "  df_biomarkers.loc[i] = lst\n",
      "c:\\Users\\robbe\\OneDrive - UGent\\UGent\\Ma2\\Methods & Applications of AI in Biomedicine [I.C.]\\Applied AI in Biomedicine (Corino Valentina)\\AI_PPG\\pyPPG\\ppg_bm\\bm_extraction.py:1288: FutureWarning: The behavior of DataFrame concatenation with empty or all-NA entries is deprecated. In a future version, this will no longer exclude empty or all-NA columns when determining the result dtypes. To retain the old behavior, exclude the relevant entries before the concat operation.\n",
      "  df_biomarkers.loc[i] = lst\n",
      "c:\\Users\\robbe\\OneDrive - UGent\\UGent\\Ma2\\Methods & Applications of AI in Biomedicine [I.C.]\\Applied AI in Biomedicine (Corino Valentina)\\AI_PPG\\pyPPG\\ppg_bm\\bm_extraction.py:1288: FutureWarning: The behavior of DataFrame concatenation with empty or all-NA entries is deprecated. In a future version, this will no longer exclude empty or all-NA columns when determining the result dtypes. To retain the old behavior, exclude the relevant entries before the concat operation.\n",
      "  df_biomarkers.loc[i] = lst\n",
      "c:\\Users\\robbe\\OneDrive - UGent\\UGent\\Ma2\\Methods & Applications of AI in Biomedicine [I.C.]\\Applied AI in Biomedicine (Corino Valentina)\\AI_PPG\\pyPPG\\ppg_bm\\bm_extraction.py:1288: FutureWarning: The behavior of DataFrame concatenation with empty or all-NA entries is deprecated. In a future version, this will no longer exclude empty or all-NA columns when determining the result dtypes. To retain the old behavior, exclude the relevant entries before the concat operation.\n",
      "  df_biomarkers.loc[i] = lst\n",
      "c:\\Users\\robbe\\OneDrive - UGent\\UGent\\Ma2\\Methods & Applications of AI in Biomedicine [I.C.]\\Applied AI in Biomedicine (Corino Valentina)\\AI_PPG\\pyPPG\\ppg_bm\\bm_extraction.py:1288: FutureWarning: The behavior of DataFrame concatenation with empty or all-NA entries is deprecated. In a future version, this will no longer exclude empty or all-NA columns when determining the result dtypes. To retain the old behavior, exclude the relevant entries before the concat operation.\n",
      "  df_biomarkers.loc[i] = lst\n",
      "c:\\Users\\robbe\\OneDrive - UGent\\UGent\\Ma2\\Methods & Applications of AI in Biomedicine [I.C.]\\Applied AI in Biomedicine (Corino Valentina)\\AI_PPG\\pyPPG\\ppg_bm\\bm_extraction.py:1288: FutureWarning: The behavior of DataFrame concatenation with empty or all-NA entries is deprecated. In a future version, this will no longer exclude empty or all-NA columns when determining the result dtypes. To retain the old behavior, exclude the relevant entries before the concat operation.\n",
      "  df_biomarkers.loc[i] = lst\n",
      "c:\\Users\\robbe\\OneDrive - UGent\\UGent\\Ma2\\Methods & Applications of AI in Biomedicine [I.C.]\\Applied AI in Biomedicine (Corino Valentina)\\AI_PPG\\pyPPG\\ppg_bm\\bm_extraction.py:1288: FutureWarning: The behavior of DataFrame concatenation with empty or all-NA entries is deprecated. In a future version, this will no longer exclude empty or all-NA columns when determining the result dtypes. To retain the old behavior, exclude the relevant entries before the concat operation.\n",
      "  df_biomarkers.loc[i] = lst\n",
      "c:\\Users\\robbe\\OneDrive - UGent\\UGent\\Ma2\\Methods & Applications of AI in Biomedicine [I.C.]\\Applied AI in Biomedicine (Corino Valentina)\\AI_PPG\\pyPPG\\ppg_bm\\bm_extraction.py:1288: FutureWarning: The behavior of DataFrame concatenation with empty or all-NA entries is deprecated. In a future version, this will no longer exclude empty or all-NA columns when determining the result dtypes. To retain the old behavior, exclude the relevant entries before the concat operation.\n",
      "  df_biomarkers.loc[i] = lst\n",
      "c:\\Users\\robbe\\OneDrive - UGent\\UGent\\Ma2\\Methods & Applications of AI in Biomedicine [I.C.]\\Applied AI in Biomedicine (Corino Valentina)\\AI_PPG\\pyPPG\\ppg_bm\\bm_extraction.py:1288: FutureWarning: The behavior of DataFrame concatenation with empty or all-NA entries is deprecated. In a future version, this will no longer exclude empty or all-NA columns when determining the result dtypes. To retain the old behavior, exclude the relevant entries before the concat operation.\n",
      "  df_biomarkers.loc[i] = lst\n",
      "c:\\Users\\robbe\\OneDrive - UGent\\UGent\\Ma2\\Methods & Applications of AI in Biomedicine [I.C.]\\Applied AI in Biomedicine (Corino Valentina)\\AI_PPG\\pyPPG\\ppg_bm\\bm_extraction.py:1288: FutureWarning: The behavior of DataFrame concatenation with empty or all-NA entries is deprecated. In a future version, this will no longer exclude empty or all-NA columns when determining the result dtypes. To retain the old behavior, exclude the relevant entries before the concat operation.\n",
      "  df_biomarkers.loc[i] = lst\n",
      "c:\\Users\\robbe\\OneDrive - UGent\\UGent\\Ma2\\Methods & Applications of AI in Biomedicine [I.C.]\\Applied AI in Biomedicine (Corino Valentina)\\AI_PPG\\pyPPG\\ppg_bm\\bm_extraction.py:1288: FutureWarning: The behavior of DataFrame concatenation with empty or all-NA entries is deprecated. In a future version, this will no longer exclude empty or all-NA columns when determining the result dtypes. To retain the old behavior, exclude the relevant entries before the concat operation.\n",
      "  df_biomarkers.loc[i] = lst\n",
      "c:\\Users\\robbe\\OneDrive - UGent\\UGent\\Ma2\\Methods & Applications of AI in Biomedicine [I.C.]\\Applied AI in Biomedicine (Corino Valentina)\\AI_PPG\\pyPPG\\ppg_bm\\bm_extraction.py:1288: FutureWarning: The behavior of DataFrame concatenation with empty or all-NA entries is deprecated. In a future version, this will no longer exclude empty or all-NA columns when determining the result dtypes. To retain the old behavior, exclude the relevant entries before the concat operation.\n",
      "  df_biomarkers.loc[i] = lst\n",
      "c:\\Users\\robbe\\OneDrive - UGent\\UGent\\Ma2\\Methods & Applications of AI in Biomedicine [I.C.]\\Applied AI in Biomedicine (Corino Valentina)\\AI_PPG\\pyPPG\\ppg_bm\\bm_extraction.py:1288: FutureWarning: The behavior of DataFrame concatenation with empty or all-NA entries is deprecated. In a future version, this will no longer exclude empty or all-NA columns when determining the result dtypes. To retain the old behavior, exclude the relevant entries before the concat operation.\n",
      "  df_biomarkers.loc[i] = lst\n",
      "c:\\Users\\robbe\\OneDrive - UGent\\UGent\\Ma2\\Methods & Applications of AI in Biomedicine [I.C.]\\Applied AI in Biomedicine (Corino Valentina)\\AI_PPG\\pyPPG\\ppg_bm\\bm_extraction.py:1288: FutureWarning: The behavior of DataFrame concatenation with empty or all-NA entries is deprecated. In a future version, this will no longer exclude empty or all-NA columns when determining the result dtypes. To retain the old behavior, exclude the relevant entries before the concat operation.\n",
      "  df_biomarkers.loc[i] = lst\n",
      "c:\\Users\\robbe\\OneDrive - UGent\\UGent\\Ma2\\Methods & Applications of AI in Biomedicine [I.C.]\\Applied AI in Biomedicine (Corino Valentina)\\AI_PPG\\pyPPG\\ppg_bm\\bm_extraction.py:1288: FutureWarning: The behavior of DataFrame concatenation with empty or all-NA entries is deprecated. In a future version, this will no longer exclude empty or all-NA columns when determining the result dtypes. To retain the old behavior, exclude the relevant entries before the concat operation.\n",
      "  df_biomarkers.loc[i] = lst\n",
      "c:\\Users\\robbe\\OneDrive - UGent\\UGent\\Ma2\\Methods & Applications of AI in Biomedicine [I.C.]\\Applied AI in Biomedicine (Corino Valentina)\\AI_PPG\\pyPPG\\ppg_bm\\bm_extraction.py:1288: FutureWarning: The behavior of DataFrame concatenation with empty or all-NA entries is deprecated. In a future version, this will no longer exclude empty or all-NA columns when determining the result dtypes. To retain the old behavior, exclude the relevant entries before the concat operation.\n",
      "  df_biomarkers.loc[i] = lst\n",
      "c:\\Users\\robbe\\OneDrive - UGent\\UGent\\Ma2\\Methods & Applications of AI in Biomedicine [I.C.]\\Applied AI in Biomedicine (Corino Valentina)\\AI_PPG\\pyPPG\\ppg_bm\\bm_extraction.py:1288: FutureWarning: The behavior of DataFrame concatenation with empty or all-NA entries is deprecated. In a future version, this will no longer exclude empty or all-NA columns when determining the result dtypes. To retain the old behavior, exclude the relevant entries before the concat operation.\n",
      "  df_biomarkers.loc[i] = lst\n",
      "c:\\Users\\robbe\\OneDrive - UGent\\UGent\\Ma2\\Methods & Applications of AI in Biomedicine [I.C.]\\Applied AI in Biomedicine (Corino Valentina)\\AI_PPG\\pyPPG\\ppg_bm\\bm_extraction.py:1288: FutureWarning: The behavior of DataFrame concatenation with empty or all-NA entries is deprecated. In a future version, this will no longer exclude empty or all-NA columns when determining the result dtypes. To retain the old behavior, exclude the relevant entries before the concat operation.\n",
      "  df_biomarkers.loc[i] = lst\n",
      "c:\\Users\\robbe\\OneDrive - UGent\\UGent\\Ma2\\Methods & Applications of AI in Biomedicine [I.C.]\\Applied AI in Biomedicine (Corino Valentina)\\AI_PPG\\pyPPG\\ppg_bm\\bm_extraction.py:1288: FutureWarning: The behavior of DataFrame concatenation with empty or all-NA entries is deprecated. In a future version, this will no longer exclude empty or all-NA columns when determining the result dtypes. To retain the old behavior, exclude the relevant entries before the concat operation.\n",
      "  df_biomarkers.loc[i] = lst\n",
      "c:\\Users\\robbe\\OneDrive - UGent\\UGent\\Ma2\\Methods & Applications of AI in Biomedicine [I.C.]\\Applied AI in Biomedicine (Corino Valentina)\\AI_PPG\\pyPPG\\ppg_bm\\bm_extraction.py:1288: FutureWarning: The behavior of DataFrame concatenation with empty or all-NA entries is deprecated. In a future version, this will no longer exclude empty or all-NA columns when determining the result dtypes. To retain the old behavior, exclude the relevant entries before the concat operation.\n",
      "  df_biomarkers.loc[i] = lst\n",
      "c:\\Users\\robbe\\OneDrive - UGent\\UGent\\Ma2\\Methods & Applications of AI in Biomedicine [I.C.]\\Applied AI in Biomedicine (Corino Valentina)\\AI_PPG\\pyPPG\\ppg_bm\\bm_extraction.py:1288: FutureWarning: The behavior of DataFrame concatenation with empty or all-NA entries is deprecated. In a future version, this will no longer exclude empty or all-NA columns when determining the result dtypes. To retain the old behavior, exclude the relevant entries before the concat operation.\n",
      "  df_biomarkers.loc[i] = lst\n",
      "c:\\Users\\robbe\\OneDrive - UGent\\UGent\\Ma2\\Methods & Applications of AI in Biomedicine [I.C.]\\Applied AI in Biomedicine (Corino Valentina)\\AI_PPG\\pyPPG\\ppg_bm\\bm_extraction.py:1288: FutureWarning: The behavior of DataFrame concatenation with empty or all-NA entries is deprecated. In a future version, this will no longer exclude empty or all-NA columns when determining the result dtypes. To retain the old behavior, exclude the relevant entries before the concat operation.\n",
      "  df_biomarkers.loc[i] = lst\n",
      "c:\\Users\\robbe\\OneDrive - UGent\\UGent\\Ma2\\Methods & Applications of AI in Biomedicine [I.C.]\\Applied AI in Biomedicine (Corino Valentina)\\AI_PPG\\pyPPG\\ppg_bm\\bm_extraction.py:1288: FutureWarning: The behavior of DataFrame concatenation with empty or all-NA entries is deprecated. In a future version, this will no longer exclude empty or all-NA columns when determining the result dtypes. To retain the old behavior, exclude the relevant entries before the concat operation.\n",
      "  df_biomarkers.loc[i] = lst\n",
      "c:\\Users\\robbe\\OneDrive - UGent\\UGent\\Ma2\\Methods & Applications of AI in Biomedicine [I.C.]\\Applied AI in Biomedicine (Corino Valentina)\\AI_PPG\\pyPPG\\ppg_bm\\bm_extraction.py:1288: FutureWarning: The behavior of DataFrame concatenation with empty or all-NA entries is deprecated. In a future version, this will no longer exclude empty or all-NA columns when determining the result dtypes. To retain the old behavior, exclude the relevant entries before the concat operation.\n",
      "  df_biomarkers.loc[i] = lst\n",
      "c:\\Users\\robbe\\OneDrive - UGent\\UGent\\Ma2\\Methods & Applications of AI in Biomedicine [I.C.]\\Applied AI in Biomedicine (Corino Valentina)\\AI_PPG\\pyPPG\\ppg_bm\\bm_extraction.py:1288: FutureWarning: The behavior of DataFrame concatenation with empty or all-NA entries is deprecated. In a future version, this will no longer exclude empty or all-NA columns when determining the result dtypes. To retain the old behavior, exclude the relevant entries before the concat operation.\n",
      "  df_biomarkers.loc[i] = lst\n",
      "c:\\Users\\robbe\\OneDrive - UGent\\UGent\\Ma2\\Methods & Applications of AI in Biomedicine [I.C.]\\Applied AI in Biomedicine (Corino Valentina)\\AI_PPG\\pyPPG\\ppg_bm\\bm_extraction.py:1288: FutureWarning: The behavior of DataFrame concatenation with empty or all-NA entries is deprecated. In a future version, this will no longer exclude empty or all-NA columns when determining the result dtypes. To retain the old behavior, exclude the relevant entries before the concat operation.\n",
      "  df_biomarkers.loc[i] = lst\n",
      "c:\\Users\\robbe\\OneDrive - UGent\\UGent\\Ma2\\Methods & Applications of AI in Biomedicine [I.C.]\\Applied AI in Biomedicine (Corino Valentina)\\AI_PPG\\pyPPG\\ppg_bm\\bm_extraction.py:1288: FutureWarning: The behavior of DataFrame concatenation with empty or all-NA entries is deprecated. In a future version, this will no longer exclude empty or all-NA columns when determining the result dtypes. To retain the old behavior, exclude the relevant entries before the concat operation.\n",
      "  df_biomarkers.loc[i] = lst\n",
      "c:\\Users\\robbe\\OneDrive - UGent\\UGent\\Ma2\\Methods & Applications of AI in Biomedicine [I.C.]\\Applied AI in Biomedicine (Corino Valentina)\\AI_PPG\\pyPPG\\ppg_bm\\bm_extraction.py:1288: FutureWarning: The behavior of DataFrame concatenation with empty or all-NA entries is deprecated. In a future version, this will no longer exclude empty or all-NA columns when determining the result dtypes. To retain the old behavior, exclude the relevant entries before the concat operation.\n",
      "  df_biomarkers.loc[i] = lst\n",
      "c:\\Users\\robbe\\OneDrive - UGent\\UGent\\Ma2\\Methods & Applications of AI in Biomedicine [I.C.]\\Applied AI in Biomedicine (Corino Valentina)\\AI_PPG\\pyPPG\\ppg_bm\\bm_extraction.py:1288: FutureWarning: The behavior of DataFrame concatenation with empty or all-NA entries is deprecated. In a future version, this will no longer exclude empty or all-NA columns when determining the result dtypes. To retain the old behavior, exclude the relevant entries before the concat operation.\n",
      "  df_biomarkers.loc[i] = lst\n",
      "c:\\Users\\robbe\\OneDrive - UGent\\UGent\\Ma2\\Methods & Applications of AI in Biomedicine [I.C.]\\Applied AI in Biomedicine (Corino Valentina)\\AI_PPG\\pyPPG\\ppg_bm\\bm_extraction.py:1288: FutureWarning: The behavior of DataFrame concatenation with empty or all-NA entries is deprecated. In a future version, this will no longer exclude empty or all-NA columns when determining the result dtypes. To retain the old behavior, exclude the relevant entries before the concat operation.\n",
      "  df_biomarkers.loc[i] = lst\n"
     ]
    },
    {
     "name": "stdout",
     "output_type": "stream",
     "text": [
      "no more peaks\n"
     ]
    },
    {
     "name": "stderr",
     "output_type": "stream",
     "text": [
      "c:\\Users\\robbe\\OneDrive - UGent\\UGent\\Ma2\\Methods & Applications of AI in Biomedicine [I.C.]\\Applied AI in Biomedicine (Corino Valentina)\\AI_PPG\\pyPPG\\ppg_bm\\bm_extraction.py:1288: FutureWarning: The behavior of DataFrame concatenation with empty or all-NA entries is deprecated. In a future version, this will no longer exclude empty or all-NA columns when determining the result dtypes. To retain the old behavior, exclude the relevant entries before the concat operation.\n",
      "  df_biomarkers.loc[i] = lst\n",
      "c:\\Users\\robbe\\OneDrive - UGent\\UGent\\Ma2\\Methods & Applications of AI in Biomedicine [I.C.]\\Applied AI in Biomedicine (Corino Valentina)\\AI_PPG\\pyPPG\\ppg_bm\\bm_extraction.py:1288: FutureWarning: The behavior of DataFrame concatenation with empty or all-NA entries is deprecated. In a future version, this will no longer exclude empty or all-NA columns when determining the result dtypes. To retain the old behavior, exclude the relevant entries before the concat operation.\n",
      "  df_biomarkers.loc[i] = lst\n",
      "c:\\Users\\robbe\\OneDrive - UGent\\UGent\\Ma2\\Methods & Applications of AI in Biomedicine [I.C.]\\Applied AI in Biomedicine (Corino Valentina)\\AI_PPG\\pyPPG\\ppg_bm\\bm_extraction.py:1288: FutureWarning: The behavior of DataFrame concatenation with empty or all-NA entries is deprecated. In a future version, this will no longer exclude empty or all-NA columns when determining the result dtypes. To retain the old behavior, exclude the relevant entries before the concat operation.\n",
      "  df_biomarkers.loc[i] = lst\n",
      "c:\\Users\\robbe\\OneDrive - UGent\\UGent\\Ma2\\Methods & Applications of AI in Biomedicine [I.C.]\\Applied AI in Biomedicine (Corino Valentina)\\AI_PPG\\pyPPG\\ppg_bm\\bm_extraction.py:1288: FutureWarning: The behavior of DataFrame concatenation with empty or all-NA entries is deprecated. In a future version, this will no longer exclude empty or all-NA columns when determining the result dtypes. To retain the old behavior, exclude the relevant entries before the concat operation.\n",
      "  df_biomarkers.loc[i] = lst\n",
      "c:\\Users\\robbe\\OneDrive - UGent\\UGent\\Ma2\\Methods & Applications of AI in Biomedicine [I.C.]\\Applied AI in Biomedicine (Corino Valentina)\\AI_PPG\\pyPPG\\ppg_bm\\bm_extraction.py:1288: FutureWarning: The behavior of DataFrame concatenation with empty or all-NA entries is deprecated. In a future version, this will no longer exclude empty or all-NA columns when determining the result dtypes. To retain the old behavior, exclude the relevant entries before the concat operation.\n",
      "  df_biomarkers.loc[i] = lst\n",
      "c:\\Users\\robbe\\OneDrive - UGent\\UGent\\Ma2\\Methods & Applications of AI in Biomedicine [I.C.]\\Applied AI in Biomedicine (Corino Valentina)\\AI_PPG\\pyPPG\\ppg_bm\\bm_extraction.py:1288: FutureWarning: The behavior of DataFrame concatenation with empty or all-NA entries is deprecated. In a future version, this will no longer exclude empty or all-NA columns when determining the result dtypes. To retain the old behavior, exclude the relevant entries before the concat operation.\n",
      "  df_biomarkers.loc[i] = lst\n",
      "c:\\Users\\robbe\\OneDrive - UGent\\UGent\\Ma2\\Methods & Applications of AI in Biomedicine [I.C.]\\Applied AI in Biomedicine (Corino Valentina)\\AI_PPG\\pyPPG\\ppg_bm\\bm_extraction.py:1288: FutureWarning: The behavior of DataFrame concatenation with empty or all-NA entries is deprecated. In a future version, this will no longer exclude empty or all-NA columns when determining the result dtypes. To retain the old behavior, exclude the relevant entries before the concat operation.\n",
      "  df_biomarkers.loc[i] = lst\n",
      "c:\\Users\\robbe\\OneDrive - UGent\\UGent\\Ma2\\Methods & Applications of AI in Biomedicine [I.C.]\\Applied AI in Biomedicine (Corino Valentina)\\AI_PPG\\pyPPG\\ppg_bm\\bm_extraction.py:1288: FutureWarning: The behavior of DataFrame concatenation with empty or all-NA entries is deprecated. In a future version, this will no longer exclude empty or all-NA columns when determining the result dtypes. To retain the old behavior, exclude the relevant entries before the concat operation.\n",
      "  df_biomarkers.loc[i] = lst\n",
      "c:\\Users\\robbe\\OneDrive - UGent\\UGent\\Ma2\\Methods & Applications of AI in Biomedicine [I.C.]\\Applied AI in Biomedicine (Corino Valentina)\\AI_PPG\\pyPPG\\ppg_bm\\bm_extraction.py:1288: FutureWarning: The behavior of DataFrame concatenation with empty or all-NA entries is deprecated. In a future version, this will no longer exclude empty or all-NA columns when determining the result dtypes. To retain the old behavior, exclude the relevant entries before the concat operation.\n",
      "  df_biomarkers.loc[i] = lst\n",
      "c:\\Users\\robbe\\OneDrive - UGent\\UGent\\Ma2\\Methods & Applications of AI in Biomedicine [I.C.]\\Applied AI in Biomedicine (Corino Valentina)\\AI_PPG\\pyPPG\\ppg_bm\\bm_extraction.py:1288: FutureWarning: The behavior of DataFrame concatenation with empty or all-NA entries is deprecated. In a future version, this will no longer exclude empty or all-NA columns when determining the result dtypes. To retain the old behavior, exclude the relevant entries before the concat operation.\n",
      "  df_biomarkers.loc[i] = lst\n",
      "c:\\Users\\robbe\\OneDrive - UGent\\UGent\\Ma2\\Methods & Applications of AI in Biomedicine [I.C.]\\Applied AI in Biomedicine (Corino Valentina)\\AI_PPG\\pyPPG\\ppg_bm\\bm_extraction.py:1288: FutureWarning: The behavior of DataFrame concatenation with empty or all-NA entries is deprecated. In a future version, this will no longer exclude empty or all-NA columns when determining the result dtypes. To retain the old behavior, exclude the relevant entries before the concat operation.\n",
      "  df_biomarkers.loc[i] = lst\n",
      "c:\\Users\\robbe\\OneDrive - UGent\\UGent\\Ma2\\Methods & Applications of AI in Biomedicine [I.C.]\\Applied AI in Biomedicine (Corino Valentina)\\AI_PPG\\pyPPG\\ppg_bm\\bm_extraction.py:1288: FutureWarning: The behavior of DataFrame concatenation with empty or all-NA entries is deprecated. In a future version, this will no longer exclude empty or all-NA columns when determining the result dtypes. To retain the old behavior, exclude the relevant entries before the concat operation.\n",
      "  df_biomarkers.loc[i] = lst\n",
      "c:\\Users\\robbe\\OneDrive - UGent\\UGent\\Ma2\\Methods & Applications of AI in Biomedicine [I.C.]\\Applied AI in Biomedicine (Corino Valentina)\\AI_PPG\\pyPPG\\ppg_bm\\bm_extraction.py:1288: FutureWarning: The behavior of DataFrame concatenation with empty or all-NA entries is deprecated. In a future version, this will no longer exclude empty or all-NA columns when determining the result dtypes. To retain the old behavior, exclude the relevant entries before the concat operation.\n",
      "  df_biomarkers.loc[i] = lst\n",
      "c:\\Users\\robbe\\OneDrive - UGent\\UGent\\Ma2\\Methods & Applications of AI in Biomedicine [I.C.]\\Applied AI in Biomedicine (Corino Valentina)\\AI_PPG\\pyPPG\\ppg_bm\\bm_extraction.py:1288: FutureWarning: The behavior of DataFrame concatenation with empty or all-NA entries is deprecated. In a future version, this will no longer exclude empty or all-NA columns when determining the result dtypes. To retain the old behavior, exclude the relevant entries before the concat operation.\n",
      "  df_biomarkers.loc[i] = lst\n",
      "c:\\Users\\robbe\\OneDrive - UGent\\UGent\\Ma2\\Methods & Applications of AI in Biomedicine [I.C.]\\Applied AI in Biomedicine (Corino Valentina)\\AI_PPG\\pyPPG\\ppg_bm\\bm_extraction.py:1288: FutureWarning: The behavior of DataFrame concatenation with empty or all-NA entries is deprecated. In a future version, this will no longer exclude empty or all-NA columns when determining the result dtypes. To retain the old behavior, exclude the relevant entries before the concat operation.\n",
      "  df_biomarkers.loc[i] = lst\n",
      "c:\\Users\\robbe\\OneDrive - UGent\\UGent\\Ma2\\Methods & Applications of AI in Biomedicine [I.C.]\\Applied AI in Biomedicine (Corino Valentina)\\AI_PPG\\pyPPG\\ppg_bm\\bm_extraction.py:1288: FutureWarning: The behavior of DataFrame concatenation with empty or all-NA entries is deprecated. In a future version, this will no longer exclude empty or all-NA columns when determining the result dtypes. To retain the old behavior, exclude the relevant entries before the concat operation.\n",
      "  df_biomarkers.loc[i] = lst\n",
      "c:\\Users\\robbe\\OneDrive - UGent\\UGent\\Ma2\\Methods & Applications of AI in Biomedicine [I.C.]\\Applied AI in Biomedicine (Corino Valentina)\\AI_PPG\\pyPPG\\ppg_bm\\bm_extraction.py:1288: FutureWarning: The behavior of DataFrame concatenation with empty or all-NA entries is deprecated. In a future version, this will no longer exclude empty or all-NA columns when determining the result dtypes. To retain the old behavior, exclude the relevant entries before the concat operation.\n",
      "  df_biomarkers.loc[i] = lst\n",
      "c:\\Users\\robbe\\OneDrive - UGent\\UGent\\Ma2\\Methods & Applications of AI in Biomedicine [I.C.]\\Applied AI in Biomedicine (Corino Valentina)\\AI_PPG\\pyPPG\\ppg_bm\\bm_extraction.py:1288: FutureWarning: The behavior of DataFrame concatenation with empty or all-NA entries is deprecated. In a future version, this will no longer exclude empty or all-NA columns when determining the result dtypes. To retain the old behavior, exclude the relevant entries before the concat operation.\n",
      "  df_biomarkers.loc[i] = lst\n",
      "c:\\Users\\robbe\\OneDrive - UGent\\UGent\\Ma2\\Methods & Applications of AI in Biomedicine [I.C.]\\Applied AI in Biomedicine (Corino Valentina)\\AI_PPG\\pyPPG\\ppg_bm\\bm_extraction.py:1288: FutureWarning: The behavior of DataFrame concatenation with empty or all-NA entries is deprecated. In a future version, this will no longer exclude empty or all-NA columns when determining the result dtypes. To retain the old behavior, exclude the relevant entries before the concat operation.\n",
      "  df_biomarkers.loc[i] = lst\n",
      "c:\\Users\\robbe\\OneDrive - UGent\\UGent\\Ma2\\Methods & Applications of AI in Biomedicine [I.C.]\\Applied AI in Biomedicine (Corino Valentina)\\AI_PPG\\pyPPG\\ppg_bm\\bm_extraction.py:1288: FutureWarning: The behavior of DataFrame concatenation with empty or all-NA entries is deprecated. In a future version, this will no longer exclude empty or all-NA columns when determining the result dtypes. To retain the old behavior, exclude the relevant entries before the concat operation.\n",
      "  df_biomarkers.loc[i] = lst\n",
      "c:\\Users\\robbe\\OneDrive - UGent\\UGent\\Ma2\\Methods & Applications of AI in Biomedicine [I.C.]\\Applied AI in Biomedicine (Corino Valentina)\\AI_PPG\\pyPPG\\ppg_bm\\bm_extraction.py:1288: FutureWarning: The behavior of DataFrame concatenation with empty or all-NA entries is deprecated. In a future version, this will no longer exclude empty or all-NA columns when determining the result dtypes. To retain the old behavior, exclude the relevant entries before the concat operation.\n",
      "  df_biomarkers.loc[i] = lst\n",
      "c:\\Users\\robbe\\OneDrive - UGent\\UGent\\Ma2\\Methods & Applications of AI in Biomedicine [I.C.]\\Applied AI in Biomedicine (Corino Valentina)\\AI_PPG\\pyPPG\\ppg_bm\\bm_extraction.py:1288: FutureWarning: The behavior of DataFrame concatenation with empty or all-NA entries is deprecated. In a future version, this will no longer exclude empty or all-NA columns when determining the result dtypes. To retain the old behavior, exclude the relevant entries before the concat operation.\n",
      "  df_biomarkers.loc[i] = lst\n",
      "c:\\Users\\robbe\\OneDrive - UGent\\UGent\\Ma2\\Methods & Applications of AI in Biomedicine [I.C.]\\Applied AI in Biomedicine (Corino Valentina)\\AI_PPG\\pyPPG\\ppg_bm\\bm_extraction.py:1288: FutureWarning: The behavior of DataFrame concatenation with empty or all-NA entries is deprecated. In a future version, this will no longer exclude empty or all-NA columns when determining the result dtypes. To retain the old behavior, exclude the relevant entries before the concat operation.\n",
      "  df_biomarkers.loc[i] = lst\n",
      "c:\\Users\\robbe\\OneDrive - UGent\\UGent\\Ma2\\Methods & Applications of AI in Biomedicine [I.C.]\\Applied AI in Biomedicine (Corino Valentina)\\AI_PPG\\pyPPG\\ppg_bm\\bm_extraction.py:1288: FutureWarning: The behavior of DataFrame concatenation with empty or all-NA entries is deprecated. In a future version, this will no longer exclude empty or all-NA columns when determining the result dtypes. To retain the old behavior, exclude the relevant entries before the concat operation.\n",
      "  df_biomarkers.loc[i] = lst\n",
      "c:\\Users\\robbe\\OneDrive - UGent\\UGent\\Ma2\\Methods & Applications of AI in Biomedicine [I.C.]\\Applied AI in Biomedicine (Corino Valentina)\\AI_PPG\\pyPPG\\ppg_bm\\bm_extraction.py:1288: FutureWarning: The behavior of DataFrame concatenation with empty or all-NA entries is deprecated. In a future version, this will no longer exclude empty or all-NA columns when determining the result dtypes. To retain the old behavior, exclude the relevant entries before the concat operation.\n",
      "  df_biomarkers.loc[i] = lst\n",
      "c:\\Users\\robbe\\OneDrive - UGent\\UGent\\Ma2\\Methods & Applications of AI in Biomedicine [I.C.]\\Applied AI in Biomedicine (Corino Valentina)\\AI_PPG\\pyPPG\\ppg_bm\\bm_extraction.py:1288: FutureWarning: The behavior of DataFrame concatenation with empty or all-NA entries is deprecated. In a future version, this will no longer exclude empty or all-NA columns when determining the result dtypes. To retain the old behavior, exclude the relevant entries before the concat operation.\n",
      "  df_biomarkers.loc[i] = lst\n",
      "c:\\Users\\robbe\\OneDrive - UGent\\UGent\\Ma2\\Methods & Applications of AI in Biomedicine [I.C.]\\Applied AI in Biomedicine (Corino Valentina)\\AI_PPG\\pyPPG\\ppg_bm\\bm_extraction.py:1288: FutureWarning: The behavior of DataFrame concatenation with empty or all-NA entries is deprecated. In a future version, this will no longer exclude empty or all-NA columns when determining the result dtypes. To retain the old behavior, exclude the relevant entries before the concat operation.\n",
      "  df_biomarkers.loc[i] = lst\n",
      "c:\\Users\\robbe\\OneDrive - UGent\\UGent\\Ma2\\Methods & Applications of AI in Biomedicine [I.C.]\\Applied AI in Biomedicine (Corino Valentina)\\AI_PPG\\pyPPG\\ppg_bm\\bm_extraction.py:1288: FutureWarning: The behavior of DataFrame concatenation with empty or all-NA entries is deprecated. In a future version, this will no longer exclude empty or all-NA columns when determining the result dtypes. To retain the old behavior, exclude the relevant entries before the concat operation.\n",
      "  df_biomarkers.loc[i] = lst\n",
      "c:\\Users\\robbe\\OneDrive - UGent\\UGent\\Ma2\\Methods & Applications of AI in Biomedicine [I.C.]\\Applied AI in Biomedicine (Corino Valentina)\\AI_PPG\\pyPPG\\ppg_bm\\bm_extraction.py:1288: FutureWarning: The behavior of DataFrame concatenation with empty or all-NA entries is deprecated. In a future version, this will no longer exclude empty or all-NA columns when determining the result dtypes. To retain the old behavior, exclude the relevant entries before the concat operation.\n",
      "  df_biomarkers.loc[i] = lst\n",
      "c:\\Users\\robbe\\OneDrive - UGent\\UGent\\Ma2\\Methods & Applications of AI in Biomedicine [I.C.]\\Applied AI in Biomedicine (Corino Valentina)\\AI_PPG\\pyPPG\\ppg_bm\\bm_extraction.py:1288: FutureWarning: The behavior of DataFrame concatenation with empty or all-NA entries is deprecated. In a future version, this will no longer exclude empty or all-NA columns when determining the result dtypes. To retain the old behavior, exclude the relevant entries before the concat operation.\n",
      "  df_biomarkers.loc[i] = lst\n",
      "c:\\Users\\robbe\\OneDrive - UGent\\UGent\\Ma2\\Methods & Applications of AI in Biomedicine [I.C.]\\Applied AI in Biomedicine (Corino Valentina)\\AI_PPG\\pyPPG\\ppg_bm\\bm_extraction.py:1288: FutureWarning: The behavior of DataFrame concatenation with empty or all-NA entries is deprecated. In a future version, this will no longer exclude empty or all-NA columns when determining the result dtypes. To retain the old behavior, exclude the relevant entries before the concat operation.\n",
      "  df_biomarkers.loc[i] = lst\n",
      "c:\\Users\\robbe\\OneDrive - UGent\\UGent\\Ma2\\Methods & Applications of AI in Biomedicine [I.C.]\\Applied AI in Biomedicine (Corino Valentina)\\AI_PPG\\pyPPG\\ppg_bm\\bm_extraction.py:1288: FutureWarning: The behavior of DataFrame concatenation with empty or all-NA entries is deprecated. In a future version, this will no longer exclude empty or all-NA columns when determining the result dtypes. To retain the old behavior, exclude the relevant entries before the concat operation.\n",
      "  df_biomarkers.loc[i] = lst\n",
      "c:\\Users\\robbe\\OneDrive - UGent\\UGent\\Ma2\\Methods & Applications of AI in Biomedicine [I.C.]\\Applied AI in Biomedicine (Corino Valentina)\\AI_PPG\\pyPPG\\ppg_bm\\bm_extraction.py:1288: FutureWarning: The behavior of DataFrame concatenation with empty or all-NA entries is deprecated. In a future version, this will no longer exclude empty or all-NA columns when determining the result dtypes. To retain the old behavior, exclude the relevant entries before the concat operation.\n",
      "  df_biomarkers.loc[i] = lst\n",
      "c:\\Users\\robbe\\OneDrive - UGent\\UGent\\Ma2\\Methods & Applications of AI in Biomedicine [I.C.]\\Applied AI in Biomedicine (Corino Valentina)\\AI_PPG\\pyPPG\\ppg_bm\\bm_extraction.py:1288: FutureWarning: The behavior of DataFrame concatenation with empty or all-NA entries is deprecated. In a future version, this will no longer exclude empty or all-NA columns when determining the result dtypes. To retain the old behavior, exclude the relevant entries before the concat operation.\n",
      "  df_biomarkers.loc[i] = lst\n",
      "c:\\Users\\robbe\\OneDrive - UGent\\UGent\\Ma2\\Methods & Applications of AI in Biomedicine [I.C.]\\Applied AI in Biomedicine (Corino Valentina)\\AI_PPG\\pyPPG\\ppg_bm\\bm_extraction.py:1288: FutureWarning: The behavior of DataFrame concatenation with empty or all-NA entries is deprecated. In a future version, this will no longer exclude empty or all-NA columns when determining the result dtypes. To retain the old behavior, exclude the relevant entries before the concat operation.\n",
      "  df_biomarkers.loc[i] = lst\n",
      "c:\\Users\\robbe\\OneDrive - UGent\\UGent\\Ma2\\Methods & Applications of AI in Biomedicine [I.C.]\\Applied AI in Biomedicine (Corino Valentina)\\AI_PPG\\pyPPG\\ppg_bm\\bm_extraction.py:1288: FutureWarning: The behavior of DataFrame concatenation with empty or all-NA entries is deprecated. In a future version, this will no longer exclude empty or all-NA columns when determining the result dtypes. To retain the old behavior, exclude the relevant entries before the concat operation.\n",
      "  df_biomarkers.loc[i] = lst\n",
      "c:\\Users\\robbe\\OneDrive - UGent\\UGent\\Ma2\\Methods & Applications of AI in Biomedicine [I.C.]\\Applied AI in Biomedicine (Corino Valentina)\\AI_PPG\\pyPPG\\ppg_bm\\bm_extraction.py:1288: FutureWarning: The behavior of DataFrame concatenation with empty or all-NA entries is deprecated. In a future version, this will no longer exclude empty or all-NA columns when determining the result dtypes. To retain the old behavior, exclude the relevant entries before the concat operation.\n",
      "  df_biomarkers.loc[i] = lst\n",
      "c:\\Users\\robbe\\OneDrive - UGent\\UGent\\Ma2\\Methods & Applications of AI in Biomedicine [I.C.]\\Applied AI in Biomedicine (Corino Valentina)\\AI_PPG\\pyPPG\\ppg_bm\\bm_extraction.py:1288: FutureWarning: The behavior of DataFrame concatenation with empty or all-NA entries is deprecated. In a future version, this will no longer exclude empty or all-NA columns when determining the result dtypes. To retain the old behavior, exclude the relevant entries before the concat operation.\n",
      "  df_biomarkers.loc[i] = lst\n",
      "c:\\Users\\robbe\\OneDrive - UGent\\UGent\\Ma2\\Methods & Applications of AI in Biomedicine [I.C.]\\Applied AI in Biomedicine (Corino Valentina)\\AI_PPG\\pyPPG\\ppg_bm\\bm_extraction.py:1288: FutureWarning: The behavior of DataFrame concatenation with empty or all-NA entries is deprecated. In a future version, this will no longer exclude empty or all-NA columns when determining the result dtypes. To retain the old behavior, exclude the relevant entries before the concat operation.\n",
      "  df_biomarkers.loc[i] = lst\n",
      "c:\\Users\\robbe\\OneDrive - UGent\\UGent\\Ma2\\Methods & Applications of AI in Biomedicine [I.C.]\\Applied AI in Biomedicine (Corino Valentina)\\AI_PPG\\pyPPG\\ppg_bm\\bm_extraction.py:1288: FutureWarning: The behavior of DataFrame concatenation with empty or all-NA entries is deprecated. In a future version, this will no longer exclude empty or all-NA columns when determining the result dtypes. To retain the old behavior, exclude the relevant entries before the concat operation.\n",
      "  df_biomarkers.loc[i] = lst\n",
      "c:\\Users\\robbe\\OneDrive - UGent\\UGent\\Ma2\\Methods & Applications of AI in Biomedicine [I.C.]\\Applied AI in Biomedicine (Corino Valentina)\\AI_PPG\\pyPPG\\ppg_bm\\bm_extraction.py:1288: FutureWarning: The behavior of DataFrame concatenation with empty or all-NA entries is deprecated. In a future version, this will no longer exclude empty or all-NA columns when determining the result dtypes. To retain the old behavior, exclude the relevant entries before the concat operation.\n",
      "  df_biomarkers.loc[i] = lst\n",
      "c:\\Users\\robbe\\OneDrive - UGent\\UGent\\Ma2\\Methods & Applications of AI in Biomedicine [I.C.]\\Applied AI in Biomedicine (Corino Valentina)\\AI_PPG\\pyPPG\\ppg_bm\\bm_extraction.py:1288: FutureWarning: The behavior of DataFrame concatenation with empty or all-NA entries is deprecated. In a future version, this will no longer exclude empty or all-NA columns when determining the result dtypes. To retain the old behavior, exclude the relevant entries before the concat operation.\n",
      "  df_biomarkers.loc[i] = lst\n",
      "c:\\Users\\robbe\\OneDrive - UGent\\UGent\\Ma2\\Methods & Applications of AI in Biomedicine [I.C.]\\Applied AI in Biomedicine (Corino Valentina)\\AI_PPG\\pyPPG\\ppg_bm\\bm_extraction.py:1288: FutureWarning: The behavior of DataFrame concatenation with empty or all-NA entries is deprecated. In a future version, this will no longer exclude empty or all-NA columns when determining the result dtypes. To retain the old behavior, exclude the relevant entries before the concat operation.\n",
      "  df_biomarkers.loc[i] = lst\n",
      "c:\\Users\\robbe\\OneDrive - UGent\\UGent\\Ma2\\Methods & Applications of AI in Biomedicine [I.C.]\\Applied AI in Biomedicine (Corino Valentina)\\AI_PPG\\pyPPG\\ppg_bm\\bm_extraction.py:1288: FutureWarning: The behavior of DataFrame concatenation with empty or all-NA entries is deprecated. In a future version, this will no longer exclude empty or all-NA columns when determining the result dtypes. To retain the old behavior, exclude the relevant entries before the concat operation.\n",
      "  df_biomarkers.loc[i] = lst\n",
      "c:\\Users\\robbe\\OneDrive - UGent\\UGent\\Ma2\\Methods & Applications of AI in Biomedicine [I.C.]\\Applied AI in Biomedicine (Corino Valentina)\\AI_PPG\\pyPPG\\ppg_bm\\bm_extraction.py:1288: FutureWarning: The behavior of DataFrame concatenation with empty or all-NA entries is deprecated. In a future version, this will no longer exclude empty or all-NA columns when determining the result dtypes. To retain the old behavior, exclude the relevant entries before the concat operation.\n",
      "  df_biomarkers.loc[i] = lst\n",
      "c:\\Users\\robbe\\OneDrive - UGent\\UGent\\Ma2\\Methods & Applications of AI in Biomedicine [I.C.]\\Applied AI in Biomedicine (Corino Valentina)\\AI_PPG\\pyPPG\\ppg_bm\\bm_extraction.py:1288: FutureWarning: The behavior of DataFrame concatenation with empty or all-NA entries is deprecated. In a future version, this will no longer exclude empty or all-NA columns when determining the result dtypes. To retain the old behavior, exclude the relevant entries before the concat operation.\n",
      "  df_biomarkers.loc[i] = lst\n",
      "c:\\Users\\robbe\\OneDrive - UGent\\UGent\\Ma2\\Methods & Applications of AI in Biomedicine [I.C.]\\Applied AI in Biomedicine (Corino Valentina)\\AI_PPG\\pyPPG\\ppg_bm\\bm_extraction.py:1288: FutureWarning: The behavior of DataFrame concatenation with empty or all-NA entries is deprecated. In a future version, this will no longer exclude empty or all-NA columns when determining the result dtypes. To retain the old behavior, exclude the relevant entries before the concat operation.\n",
      "  df_biomarkers.loc[i] = lst\n",
      "c:\\Users\\robbe\\OneDrive - UGent\\UGent\\Ma2\\Methods & Applications of AI in Biomedicine [I.C.]\\Applied AI in Biomedicine (Corino Valentina)\\AI_PPG\\pyPPG\\ppg_bm\\bm_extraction.py:1288: FutureWarning: The behavior of DataFrame concatenation with empty or all-NA entries is deprecated. In a future version, this will no longer exclude empty or all-NA columns when determining the result dtypes. To retain the old behavior, exclude the relevant entries before the concat operation.\n",
      "  df_biomarkers.loc[i] = lst\n",
      "c:\\Users\\robbe\\OneDrive - UGent\\UGent\\Ma2\\Methods & Applications of AI in Biomedicine [I.C.]\\Applied AI in Biomedicine (Corino Valentina)\\AI_PPG\\pyPPG\\ppg_bm\\bm_extraction.py:1288: FutureWarning: The behavior of DataFrame concatenation with empty or all-NA entries is deprecated. In a future version, this will no longer exclude empty or all-NA columns when determining the result dtypes. To retain the old behavior, exclude the relevant entries before the concat operation.\n",
      "  df_biomarkers.loc[i] = lst\n"
     ]
    },
    {
     "name": "stdout",
     "output_type": "stream",
     "text": [
      "no more peaks\n"
     ]
    },
    {
     "name": "stderr",
     "output_type": "stream",
     "text": [
      "c:\\Users\\robbe\\OneDrive - UGent\\UGent\\Ma2\\Methods & Applications of AI in Biomedicine [I.C.]\\Applied AI in Biomedicine (Corino Valentina)\\AI_PPG\\pyPPG\\ppg_bm\\bm_extraction.py:1288: FutureWarning: The behavior of DataFrame concatenation with empty or all-NA entries is deprecated. In a future version, this will no longer exclude empty or all-NA columns when determining the result dtypes. To retain the old behavior, exclude the relevant entries before the concat operation.\n",
      "  df_biomarkers.loc[i] = lst\n",
      "c:\\Users\\robbe\\OneDrive - UGent\\UGent\\Ma2\\Methods & Applications of AI in Biomedicine [I.C.]\\Applied AI in Biomedicine (Corino Valentina)\\AI_PPG\\pyPPG\\ppg_bm\\bm_extraction.py:1288: FutureWarning: The behavior of DataFrame concatenation with empty or all-NA entries is deprecated. In a future version, this will no longer exclude empty or all-NA columns when determining the result dtypes. To retain the old behavior, exclude the relevant entries before the concat operation.\n",
      "  df_biomarkers.loc[i] = lst\n",
      "c:\\Users\\robbe\\OneDrive - UGent\\UGent\\Ma2\\Methods & Applications of AI in Biomedicine [I.C.]\\Applied AI in Biomedicine (Corino Valentina)\\AI_PPG\\pyPPG\\ppg_bm\\bm_extraction.py:1288: FutureWarning: The behavior of DataFrame concatenation with empty or all-NA entries is deprecated. In a future version, this will no longer exclude empty or all-NA columns when determining the result dtypes. To retain the old behavior, exclude the relevant entries before the concat operation.\n",
      "  df_biomarkers.loc[i] = lst\n",
      "c:\\Users\\robbe\\OneDrive - UGent\\UGent\\Ma2\\Methods & Applications of AI in Biomedicine [I.C.]\\Applied AI in Biomedicine (Corino Valentina)\\AI_PPG\\pyPPG\\ppg_bm\\bm_extraction.py:1288: FutureWarning: The behavior of DataFrame concatenation with empty or all-NA entries is deprecated. In a future version, this will no longer exclude empty or all-NA columns when determining the result dtypes. To retain the old behavior, exclude the relevant entries before the concat operation.\n",
      "  df_biomarkers.loc[i] = lst\n",
      "c:\\Users\\robbe\\OneDrive - UGent\\UGent\\Ma2\\Methods & Applications of AI in Biomedicine [I.C.]\\Applied AI in Biomedicine (Corino Valentina)\\AI_PPG\\pyPPG\\ppg_bm\\bm_extraction.py:1288: FutureWarning: The behavior of DataFrame concatenation with empty or all-NA entries is deprecated. In a future version, this will no longer exclude empty or all-NA columns when determining the result dtypes. To retain the old behavior, exclude the relevant entries before the concat operation.\n",
      "  df_biomarkers.loc[i] = lst\n",
      "c:\\Users\\robbe\\OneDrive - UGent\\UGent\\Ma2\\Methods & Applications of AI in Biomedicine [I.C.]\\Applied AI in Biomedicine (Corino Valentina)\\AI_PPG\\pyPPG\\ppg_bm\\bm_extraction.py:1288: FutureWarning: The behavior of DataFrame concatenation with empty or all-NA entries is deprecated. In a future version, this will no longer exclude empty or all-NA columns when determining the result dtypes. To retain the old behavior, exclude the relevant entries before the concat operation.\n",
      "  df_biomarkers.loc[i] = lst\n",
      "c:\\Users\\robbe\\OneDrive - UGent\\UGent\\Ma2\\Methods & Applications of AI in Biomedicine [I.C.]\\Applied AI in Biomedicine (Corino Valentina)\\AI_PPG\\pyPPG\\ppg_bm\\bm_extraction.py:1288: FutureWarning: The behavior of DataFrame concatenation with empty or all-NA entries is deprecated. In a future version, this will no longer exclude empty or all-NA columns when determining the result dtypes. To retain the old behavior, exclude the relevant entries before the concat operation.\n",
      "  df_biomarkers.loc[i] = lst\n",
      "c:\\Users\\robbe\\OneDrive - UGent\\UGent\\Ma2\\Methods & Applications of AI in Biomedicine [I.C.]\\Applied AI in Biomedicine (Corino Valentina)\\AI_PPG\\pyPPG\\ppg_bm\\bm_extraction.py:1288: FutureWarning: The behavior of DataFrame concatenation with empty or all-NA entries is deprecated. In a future version, this will no longer exclude empty or all-NA columns when determining the result dtypes. To retain the old behavior, exclude the relevant entries before the concat operation.\n",
      "  df_biomarkers.loc[i] = lst\n",
      "c:\\Users\\robbe\\OneDrive - UGent\\UGent\\Ma2\\Methods & Applications of AI in Biomedicine [I.C.]\\Applied AI in Biomedicine (Corino Valentina)\\AI_PPG\\pyPPG\\ppg_bm\\bm_extraction.py:1288: FutureWarning: The behavior of DataFrame concatenation with empty or all-NA entries is deprecated. In a future version, this will no longer exclude empty or all-NA columns when determining the result dtypes. To retain the old behavior, exclude the relevant entries before the concat operation.\n",
      "  df_biomarkers.loc[i] = lst\n",
      "c:\\Users\\robbe\\OneDrive - UGent\\UGent\\Ma2\\Methods & Applications of AI in Biomedicine [I.C.]\\Applied AI in Biomedicine (Corino Valentina)\\AI_PPG\\pyPPG\\ppg_bm\\bm_extraction.py:1288: FutureWarning: The behavior of DataFrame concatenation with empty or all-NA entries is deprecated. In a future version, this will no longer exclude empty or all-NA columns when determining the result dtypes. To retain the old behavior, exclude the relevant entries before the concat operation.\n",
      "  df_biomarkers.loc[i] = lst\n",
      "c:\\Users\\robbe\\OneDrive - UGent\\UGent\\Ma2\\Methods & Applications of AI in Biomedicine [I.C.]\\Applied AI in Biomedicine (Corino Valentina)\\AI_PPG\\pyPPG\\ppg_bm\\bm_extraction.py:1288: FutureWarning: The behavior of DataFrame concatenation with empty or all-NA entries is deprecated. In a future version, this will no longer exclude empty or all-NA columns when determining the result dtypes. To retain the old behavior, exclude the relevant entries before the concat operation.\n",
      "  df_biomarkers.loc[i] = lst\n",
      "c:\\Users\\robbe\\OneDrive - UGent\\UGent\\Ma2\\Methods & Applications of AI in Biomedicine [I.C.]\\Applied AI in Biomedicine (Corino Valentina)\\AI_PPG\\pyPPG\\ppg_bm\\bm_extraction.py:1288: FutureWarning: The behavior of DataFrame concatenation with empty or all-NA entries is deprecated. In a future version, this will no longer exclude empty or all-NA columns when determining the result dtypes. To retain the old behavior, exclude the relevant entries before the concat operation.\n",
      "  df_biomarkers.loc[i] = lst\n",
      "c:\\Users\\robbe\\OneDrive - UGent\\UGent\\Ma2\\Methods & Applications of AI in Biomedicine [I.C.]\\Applied AI in Biomedicine (Corino Valentina)\\AI_PPG\\pyPPG\\ppg_bm\\bm_extraction.py:1288: FutureWarning: The behavior of DataFrame concatenation with empty or all-NA entries is deprecated. In a future version, this will no longer exclude empty or all-NA columns when determining the result dtypes. To retain the old behavior, exclude the relevant entries before the concat operation.\n",
      "  df_biomarkers.loc[i] = lst\n",
      "c:\\Users\\robbe\\OneDrive - UGent\\UGent\\Ma2\\Methods & Applications of AI in Biomedicine [I.C.]\\Applied AI in Biomedicine (Corino Valentina)\\AI_PPG\\pyPPG\\ppg_bm\\bm_extraction.py:1288: FutureWarning: The behavior of DataFrame concatenation with empty or all-NA entries is deprecated. In a future version, this will no longer exclude empty or all-NA columns when determining the result dtypes. To retain the old behavior, exclude the relevant entries before the concat operation.\n",
      "  df_biomarkers.loc[i] = lst\n",
      "c:\\Users\\robbe\\OneDrive - UGent\\UGent\\Ma2\\Methods & Applications of AI in Biomedicine [I.C.]\\Applied AI in Biomedicine (Corino Valentina)\\AI_PPG\\pyPPG\\ppg_bm\\bm_extraction.py:1288: FutureWarning: The behavior of DataFrame concatenation with empty or all-NA entries is deprecated. In a future version, this will no longer exclude empty or all-NA columns when determining the result dtypes. To retain the old behavior, exclude the relevant entries before the concat operation.\n",
      "  df_biomarkers.loc[i] = lst\n",
      "c:\\Users\\robbe\\OneDrive - UGent\\UGent\\Ma2\\Methods & Applications of AI in Biomedicine [I.C.]\\Applied AI in Biomedicine (Corino Valentina)\\AI_PPG\\pyPPG\\ppg_bm\\bm_extraction.py:1288: FutureWarning: The behavior of DataFrame concatenation with empty or all-NA entries is deprecated. In a future version, this will no longer exclude empty or all-NA columns when determining the result dtypes. To retain the old behavior, exclude the relevant entries before the concat operation.\n",
      "  df_biomarkers.loc[i] = lst\n",
      "c:\\Users\\robbe\\OneDrive - UGent\\UGent\\Ma2\\Methods & Applications of AI in Biomedicine [I.C.]\\Applied AI in Biomedicine (Corino Valentina)\\AI_PPG\\pyPPG\\ppg_bm\\bm_extraction.py:1288: FutureWarning: The behavior of DataFrame concatenation with empty or all-NA entries is deprecated. In a future version, this will no longer exclude empty or all-NA columns when determining the result dtypes. To retain the old behavior, exclude the relevant entries before the concat operation.\n",
      "  df_biomarkers.loc[i] = lst\n",
      "c:\\Users\\robbe\\OneDrive - UGent\\UGent\\Ma2\\Methods & Applications of AI in Biomedicine [I.C.]\\Applied AI in Biomedicine (Corino Valentina)\\AI_PPG\\pyPPG\\ppg_bm\\bm_extraction.py:1288: FutureWarning: The behavior of DataFrame concatenation with empty or all-NA entries is deprecated. In a future version, this will no longer exclude empty or all-NA columns when determining the result dtypes. To retain the old behavior, exclude the relevant entries before the concat operation.\n",
      "  df_biomarkers.loc[i] = lst\n",
      "c:\\Users\\robbe\\OneDrive - UGent\\UGent\\Ma2\\Methods & Applications of AI in Biomedicine [I.C.]\\Applied AI in Biomedicine (Corino Valentina)\\AI_PPG\\pyPPG\\ppg_bm\\bm_extraction.py:1288: FutureWarning: The behavior of DataFrame concatenation with empty or all-NA entries is deprecated. In a future version, this will no longer exclude empty or all-NA columns when determining the result dtypes. To retain the old behavior, exclude the relevant entries before the concat operation.\n",
      "  df_biomarkers.loc[i] = lst\n",
      "c:\\Users\\robbe\\OneDrive - UGent\\UGent\\Ma2\\Methods & Applications of AI in Biomedicine [I.C.]\\Applied AI in Biomedicine (Corino Valentina)\\AI_PPG\\pyPPG\\ppg_bm\\bm_extraction.py:1288: FutureWarning: The behavior of DataFrame concatenation with empty or all-NA entries is deprecated. In a future version, this will no longer exclude empty or all-NA columns when determining the result dtypes. To retain the old behavior, exclude the relevant entries before the concat operation.\n",
      "  df_biomarkers.loc[i] = lst\n",
      "c:\\Users\\robbe\\OneDrive - UGent\\UGent\\Ma2\\Methods & Applications of AI in Biomedicine [I.C.]\\Applied AI in Biomedicine (Corino Valentina)\\AI_PPG\\pyPPG\\ppg_bm\\bm_extraction.py:1288: FutureWarning: The behavior of DataFrame concatenation with empty or all-NA entries is deprecated. In a future version, this will no longer exclude empty or all-NA columns when determining the result dtypes. To retain the old behavior, exclude the relevant entries before the concat operation.\n",
      "  df_biomarkers.loc[i] = lst\n",
      "c:\\Users\\robbe\\OneDrive - UGent\\UGent\\Ma2\\Methods & Applications of AI in Biomedicine [I.C.]\\Applied AI in Biomedicine (Corino Valentina)\\AI_PPG\\pyPPG\\ppg_bm\\bm_extraction.py:1288: FutureWarning: The behavior of DataFrame concatenation with empty or all-NA entries is deprecated. In a future version, this will no longer exclude empty or all-NA columns when determining the result dtypes. To retain the old behavior, exclude the relevant entries before the concat operation.\n",
      "  df_biomarkers.loc[i] = lst\n",
      "c:\\Users\\robbe\\OneDrive - UGent\\UGent\\Ma2\\Methods & Applications of AI in Biomedicine [I.C.]\\Applied AI in Biomedicine (Corino Valentina)\\AI_PPG\\pyPPG\\ppg_bm\\bm_extraction.py:1288: FutureWarning: The behavior of DataFrame concatenation with empty or all-NA entries is deprecated. In a future version, this will no longer exclude empty or all-NA columns when determining the result dtypes. To retain the old behavior, exclude the relevant entries before the concat operation.\n",
      "  df_biomarkers.loc[i] = lst\n",
      "c:\\Users\\robbe\\OneDrive - UGent\\UGent\\Ma2\\Methods & Applications of AI in Biomedicine [I.C.]\\Applied AI in Biomedicine (Corino Valentina)\\AI_PPG\\pyPPG\\ppg_bm\\bm_extraction.py:1288: FutureWarning: The behavior of DataFrame concatenation with empty or all-NA entries is deprecated. In a future version, this will no longer exclude empty or all-NA columns when determining the result dtypes. To retain the old behavior, exclude the relevant entries before the concat operation.\n",
      "  df_biomarkers.loc[i] = lst\n",
      "c:\\Users\\robbe\\OneDrive - UGent\\UGent\\Ma2\\Methods & Applications of AI in Biomedicine [I.C.]\\Applied AI in Biomedicine (Corino Valentina)\\AI_PPG\\pyPPG\\ppg_bm\\bm_extraction.py:1288: FutureWarning: The behavior of DataFrame concatenation with empty or all-NA entries is deprecated. In a future version, this will no longer exclude empty or all-NA columns when determining the result dtypes. To retain the old behavior, exclude the relevant entries before the concat operation.\n",
      "  df_biomarkers.loc[i] = lst\n",
      "c:\\Users\\robbe\\OneDrive - UGent\\UGent\\Ma2\\Methods & Applications of AI in Biomedicine [I.C.]\\Applied AI in Biomedicine (Corino Valentina)\\AI_PPG\\pyPPG\\ppg_bm\\bm_extraction.py:1288: FutureWarning: The behavior of DataFrame concatenation with empty or all-NA entries is deprecated. In a future version, this will no longer exclude empty or all-NA columns when determining the result dtypes. To retain the old behavior, exclude the relevant entries before the concat operation.\n",
      "  df_biomarkers.loc[i] = lst\n",
      "c:\\Users\\robbe\\OneDrive - UGent\\UGent\\Ma2\\Methods & Applications of AI in Biomedicine [I.C.]\\Applied AI in Biomedicine (Corino Valentina)\\AI_PPG\\pyPPG\\ppg_bm\\bm_extraction.py:1288: FutureWarning: The behavior of DataFrame concatenation with empty or all-NA entries is deprecated. In a future version, this will no longer exclude empty or all-NA columns when determining the result dtypes. To retain the old behavior, exclude the relevant entries before the concat operation.\n",
      "  df_biomarkers.loc[i] = lst\n",
      "c:\\Users\\robbe\\OneDrive - UGent\\UGent\\Ma2\\Methods & Applications of AI in Biomedicine [I.C.]\\Applied AI in Biomedicine (Corino Valentina)\\AI_PPG\\pyPPG\\ppg_bm\\bm_extraction.py:1288: FutureWarning: The behavior of DataFrame concatenation with empty or all-NA entries is deprecated. In a future version, this will no longer exclude empty or all-NA columns when determining the result dtypes. To retain the old behavior, exclude the relevant entries before the concat operation.\n",
      "  df_biomarkers.loc[i] = lst\n",
      "c:\\Users\\robbe\\OneDrive - UGent\\UGent\\Ma2\\Methods & Applications of AI in Biomedicine [I.C.]\\Applied AI in Biomedicine (Corino Valentina)\\AI_PPG\\pyPPG\\ppg_bm\\bm_extraction.py:1288: FutureWarning: The behavior of DataFrame concatenation with empty or all-NA entries is deprecated. In a future version, this will no longer exclude empty or all-NA columns when determining the result dtypes. To retain the old behavior, exclude the relevant entries before the concat operation.\n",
      "  df_biomarkers.loc[i] = lst\n",
      "c:\\Users\\robbe\\OneDrive - UGent\\UGent\\Ma2\\Methods & Applications of AI in Biomedicine [I.C.]\\Applied AI in Biomedicine (Corino Valentina)\\AI_PPG\\pyPPG\\ppg_bm\\bm_extraction.py:1288: FutureWarning: The behavior of DataFrame concatenation with empty or all-NA entries is deprecated. In a future version, this will no longer exclude empty or all-NA columns when determining the result dtypes. To retain the old behavior, exclude the relevant entries before the concat operation.\n",
      "  df_biomarkers.loc[i] = lst\n",
      "c:\\Users\\robbe\\OneDrive - UGent\\UGent\\Ma2\\Methods & Applications of AI in Biomedicine [I.C.]\\Applied AI in Biomedicine (Corino Valentina)\\AI_PPG\\pyPPG\\ppg_bm\\bm_extraction.py:1288: FutureWarning: The behavior of DataFrame concatenation with empty or all-NA entries is deprecated. In a future version, this will no longer exclude empty or all-NA columns when determining the result dtypes. To retain the old behavior, exclude the relevant entries before the concat operation.\n",
      "  df_biomarkers.loc[i] = lst\n",
      "c:\\Users\\robbe\\OneDrive - UGent\\UGent\\Ma2\\Methods & Applications of AI in Biomedicine [I.C.]\\Applied AI in Biomedicine (Corino Valentina)\\AI_PPG\\pyPPG\\ppg_bm\\bm_extraction.py:1288: FutureWarning: The behavior of DataFrame concatenation with empty or all-NA entries is deprecated. In a future version, this will no longer exclude empty or all-NA columns when determining the result dtypes. To retain the old behavior, exclude the relevant entries before the concat operation.\n",
      "  df_biomarkers.loc[i] = lst\n",
      "c:\\Users\\robbe\\OneDrive - UGent\\UGent\\Ma2\\Methods & Applications of AI in Biomedicine [I.C.]\\Applied AI in Biomedicine (Corino Valentina)\\AI_PPG\\pyPPG\\ppg_bm\\bm_extraction.py:1288: FutureWarning: The behavior of DataFrame concatenation with empty or all-NA entries is deprecated. In a future version, this will no longer exclude empty or all-NA columns when determining the result dtypes. To retain the old behavior, exclude the relevant entries before the concat operation.\n",
      "  df_biomarkers.loc[i] = lst\n",
      "c:\\Users\\robbe\\OneDrive - UGent\\UGent\\Ma2\\Methods & Applications of AI in Biomedicine [I.C.]\\Applied AI in Biomedicine (Corino Valentina)\\AI_PPG\\pyPPG\\ppg_bm\\bm_extraction.py:1288: FutureWarning: The behavior of DataFrame concatenation with empty or all-NA entries is deprecated. In a future version, this will no longer exclude empty or all-NA columns when determining the result dtypes. To retain the old behavior, exclude the relevant entries before the concat operation.\n",
      "  df_biomarkers.loc[i] = lst\n",
      "c:\\Users\\robbe\\OneDrive - UGent\\UGent\\Ma2\\Methods & Applications of AI in Biomedicine [I.C.]\\Applied AI in Biomedicine (Corino Valentina)\\AI_PPG\\pyPPG\\ppg_bm\\bm_extraction.py:1288: FutureWarning: The behavior of DataFrame concatenation with empty or all-NA entries is deprecated. In a future version, this will no longer exclude empty or all-NA columns when determining the result dtypes. To retain the old behavior, exclude the relevant entries before the concat operation.\n",
      "  df_biomarkers.loc[i] = lst\n",
      "c:\\Users\\robbe\\OneDrive - UGent\\UGent\\Ma2\\Methods & Applications of AI in Biomedicine [I.C.]\\Applied AI in Biomedicine (Corino Valentina)\\AI_PPG\\pyPPG\\ppg_bm\\bm_extraction.py:1288: FutureWarning: The behavior of DataFrame concatenation with empty or all-NA entries is deprecated. In a future version, this will no longer exclude empty or all-NA columns when determining the result dtypes. To retain the old behavior, exclude the relevant entries before the concat operation.\n",
      "  df_biomarkers.loc[i] = lst\n",
      "c:\\Users\\robbe\\OneDrive - UGent\\UGent\\Ma2\\Methods & Applications of AI in Biomedicine [I.C.]\\Applied AI in Biomedicine (Corino Valentina)\\AI_PPG\\pyPPG\\ppg_bm\\bm_extraction.py:1288: FutureWarning: The behavior of DataFrame concatenation with empty or all-NA entries is deprecated. In a future version, this will no longer exclude empty or all-NA columns when determining the result dtypes. To retain the old behavior, exclude the relevant entries before the concat operation.\n",
      "  df_biomarkers.loc[i] = lst\n",
      "c:\\Users\\robbe\\OneDrive - UGent\\UGent\\Ma2\\Methods & Applications of AI in Biomedicine [I.C.]\\Applied AI in Biomedicine (Corino Valentina)\\AI_PPG\\pyPPG\\ppg_bm\\bm_extraction.py:1288: FutureWarning: The behavior of DataFrame concatenation with empty or all-NA entries is deprecated. In a future version, this will no longer exclude empty or all-NA columns when determining the result dtypes. To retain the old behavior, exclude the relevant entries before the concat operation.\n",
      "  df_biomarkers.loc[i] = lst\n",
      "c:\\Users\\robbe\\OneDrive - UGent\\UGent\\Ma2\\Methods & Applications of AI in Biomedicine [I.C.]\\Applied AI in Biomedicine (Corino Valentina)\\AI_PPG\\pyPPG\\ppg_bm\\bm_extraction.py:1288: FutureWarning: The behavior of DataFrame concatenation with empty or all-NA entries is deprecated. In a future version, this will no longer exclude empty or all-NA columns when determining the result dtypes. To retain the old behavior, exclude the relevant entries before the concat operation.\n",
      "  df_biomarkers.loc[i] = lst\n",
      "c:\\Users\\robbe\\OneDrive - UGent\\UGent\\Ma2\\Methods & Applications of AI in Biomedicine [I.C.]\\Applied AI in Biomedicine (Corino Valentina)\\AI_PPG\\pyPPG\\ppg_bm\\bm_extraction.py:1288: FutureWarning: The behavior of DataFrame concatenation with empty or all-NA entries is deprecated. In a future version, this will no longer exclude empty or all-NA columns when determining the result dtypes. To retain the old behavior, exclude the relevant entries before the concat operation.\n",
      "  df_biomarkers.loc[i] = lst\n",
      "c:\\Users\\robbe\\OneDrive - UGent\\UGent\\Ma2\\Methods & Applications of AI in Biomedicine [I.C.]\\Applied AI in Biomedicine (Corino Valentina)\\AI_PPG\\pyPPG\\ppg_bm\\bm_extraction.py:1288: FutureWarning: The behavior of DataFrame concatenation with empty or all-NA entries is deprecated. In a future version, this will no longer exclude empty or all-NA columns when determining the result dtypes. To retain the old behavior, exclude the relevant entries before the concat operation.\n",
      "  df_biomarkers.loc[i] = lst\n",
      "c:\\Users\\robbe\\OneDrive - UGent\\UGent\\Ma2\\Methods & Applications of AI in Biomedicine [I.C.]\\Applied AI in Biomedicine (Corino Valentina)\\AI_PPG\\pyPPG\\ppg_bm\\bm_extraction.py:1288: FutureWarning: The behavior of DataFrame concatenation with empty or all-NA entries is deprecated. In a future version, this will no longer exclude empty or all-NA columns when determining the result dtypes. To retain the old behavior, exclude the relevant entries before the concat operation.\n",
      "  df_biomarkers.loc[i] = lst\n",
      "c:\\Users\\robbe\\OneDrive - UGent\\UGent\\Ma2\\Methods & Applications of AI in Biomedicine [I.C.]\\Applied AI in Biomedicine (Corino Valentina)\\AI_PPG\\pyPPG\\ppg_bm\\bm_extraction.py:1288: FutureWarning: The behavior of DataFrame concatenation with empty or all-NA entries is deprecated. In a future version, this will no longer exclude empty or all-NA columns when determining the result dtypes. To retain the old behavior, exclude the relevant entries before the concat operation.\n",
      "  df_biomarkers.loc[i] = lst\n",
      "c:\\Users\\robbe\\OneDrive - UGent\\UGent\\Ma2\\Methods & Applications of AI in Biomedicine [I.C.]\\Applied AI in Biomedicine (Corino Valentina)\\AI_PPG\\pyPPG\\ppg_bm\\bm_extraction.py:1288: FutureWarning: The behavior of DataFrame concatenation with empty or all-NA entries is deprecated. In a future version, this will no longer exclude empty or all-NA columns when determining the result dtypes. To retain the old behavior, exclude the relevant entries before the concat operation.\n",
      "  df_biomarkers.loc[i] = lst\n",
      "c:\\Users\\robbe\\OneDrive - UGent\\UGent\\Ma2\\Methods & Applications of AI in Biomedicine [I.C.]\\Applied AI in Biomedicine (Corino Valentina)\\AI_PPG\\pyPPG\\ppg_bm\\bm_extraction.py:1288: FutureWarning: The behavior of DataFrame concatenation with empty or all-NA entries is deprecated. In a future version, this will no longer exclude empty or all-NA columns when determining the result dtypes. To retain the old behavior, exclude the relevant entries before the concat operation.\n",
      "  df_biomarkers.loc[i] = lst\n",
      "c:\\Users\\robbe\\OneDrive - UGent\\UGent\\Ma2\\Methods & Applications of AI in Biomedicine [I.C.]\\Applied AI in Biomedicine (Corino Valentina)\\AI_PPG\\pyPPG\\ppg_bm\\bm_extraction.py:1288: FutureWarning: The behavior of DataFrame concatenation with empty or all-NA entries is deprecated. In a future version, this will no longer exclude empty or all-NA columns when determining the result dtypes. To retain the old behavior, exclude the relevant entries before the concat operation.\n",
      "  df_biomarkers.loc[i] = lst\n",
      "c:\\Users\\robbe\\OneDrive - UGent\\UGent\\Ma2\\Methods & Applications of AI in Biomedicine [I.C.]\\Applied AI in Biomedicine (Corino Valentina)\\AI_PPG\\pyPPG\\ppg_bm\\bm_extraction.py:1288: FutureWarning: The behavior of DataFrame concatenation with empty or all-NA entries is deprecated. In a future version, this will no longer exclude empty or all-NA columns when determining the result dtypes. To retain the old behavior, exclude the relevant entries before the concat operation.\n",
      "  df_biomarkers.loc[i] = lst\n",
      "c:\\Users\\robbe\\OneDrive - UGent\\UGent\\Ma2\\Methods & Applications of AI in Biomedicine [I.C.]\\Applied AI in Biomedicine (Corino Valentina)\\AI_PPG\\pyPPG\\ppg_bm\\bm_extraction.py:1288: FutureWarning: The behavior of DataFrame concatenation with empty or all-NA entries is deprecated. In a future version, this will no longer exclude empty or all-NA columns when determining the result dtypes. To retain the old behavior, exclude the relevant entries before the concat operation.\n",
      "  df_biomarkers.loc[i] = lst\n",
      "c:\\Users\\robbe\\OneDrive - UGent\\UGent\\Ma2\\Methods & Applications of AI in Biomedicine [I.C.]\\Applied AI in Biomedicine (Corino Valentina)\\AI_PPG\\pyPPG\\ppg_bm\\bm_extraction.py:1288: FutureWarning: The behavior of DataFrame concatenation with empty or all-NA entries is deprecated. In a future version, this will no longer exclude empty or all-NA columns when determining the result dtypes. To retain the old behavior, exclude the relevant entries before the concat operation.\n",
      "  df_biomarkers.loc[i] = lst\n"
     ]
    },
    {
     "name": "stdout",
     "output_type": "stream",
     "text": [
      "no more peaks\n",
      "no more peaks\n"
     ]
    }
   ],
   "source": [
    "S001_128.get_biomarkers()"
   ]
  },
  {
   "cell_type": "code",
   "execution_count": 806,
   "metadata": {},
   "outputs": [
    {
     "name": "stdout",
     "output_type": "stream",
     "text": [
      "                    on      sp      dn      dp     off       u       v     w  \\\n",
      "Index of pulse                                                                 \n",
      "0                    0      83     112    <NA>     128      64      82  <NA>   \n",
      "1                  128     165     195    <NA>     210     148     180  <NA>   \n",
      "2                  210     247     277    <NA>     294     230     263  <NA>   \n",
      "3                  294     330     355    <NA>     365     315     338  <NA>   \n",
      "4                  365     394     444    <NA>     453     380     416  <NA>   \n",
      "...                ...     ...     ...     ...     ...     ...     ...   ...   \n",
      "2502            229672  229722  229737    <NA>  229748  229697  229720  <NA>   \n",
      "2503            229748  229811  229828    <NA>  229844  229774  229809  <NA>   \n",
      "2504            229844  229896  229935    <NA>  229953  229887  229913  <NA>   \n",
      "2505            229953  229984  230000    <NA>  230001  229970  229982  <NA>   \n",
      "2506            230001  230050  230070  230093  230123  230081    <NA>  <NA>   \n",
      "\n",
      "                     a       b       c       d       e       f      p1      p2  \n",
      "Index of pulse                                                                  \n",
      "0                   48      80      97      97     126     125      97     128  \n",
      "1                  129     165     185     185     208     207     185     210  \n",
      "2                  211     247     262     262     292     291     262     294  \n",
      "3                  296     331     347     347     362     361     347     365  \n",
      "4                  364     392     403     403     417     429     403     423  \n",
      "...                ...     ...     ...     ...     ...     ...     ...     ...  \n",
      "2502            229687  229715  229729  229729  229746  229745  229729  229748  \n",
      "2503            229747  229803  229820  229820  229835  229834  229818  229820  \n",
      "2504            229877  229905  229935  229935  229948  229947  229921  229935  \n",
      "2505            229952  229983  229987  229987  229999  229998  229986  229987  \n",
      "2506            230009  230039  230056  230056  230068  230095  230056  230081  \n",
      "\n",
      "[2507 rows x 16 columns]\n"
     ]
    }
   ],
   "source": [
    "print(S001_128.fp.get_fp())"
   ]
  },
  {
   "cell_type": "code",
   "execution_count": 807,
   "metadata": {},
   "outputs": [
    {
     "ename": "AttributeError",
     "evalue": "'OneSignal' object has no attribute 'bm'",
     "output_type": "error",
     "traceback": [
      "\u001b[1;31m---------------------------------------------------------------------------\u001b[0m",
      "\u001b[1;31mAttributeError\u001b[0m                            Traceback (most recent call last)",
      "Cell \u001b[1;32mIn[807], line 1\u001b[0m\n\u001b[1;32m----> 1\u001b[0m \u001b[38;5;28mprint\u001b[39m(\u001b[38;5;28mdir\u001b[39m(\u001b[43mS001_128\u001b[49m\u001b[38;5;241;43m.\u001b[39;49m\u001b[43mbm\u001b[49m))\n",
      "\u001b[1;31mAttributeError\u001b[0m: 'OneSignal' object has no attribute 'bm'"
     ]
    }
   ],
   "source": [
    "print(dir(S001_128.bm))"
   ]
  },
  {
   "cell_type": "code",
   "execution_count": null,
   "metadata": {},
   "outputs": [
    {
     "ename": "AttributeError",
     "evalue": "'OneSignal' object has no attribute 'bm'",
     "output_type": "error",
     "traceback": [
      "\u001b[1;31m---------------------------------------------------------------------------\u001b[0m",
      "\u001b[1;31mAttributeError\u001b[0m                            Traceback (most recent call last)",
      "Cell \u001b[1;32mIn[798], line 1\u001b[0m\n\u001b[1;32m----> 1\u001b[0m \u001b[38;5;28mprint\u001b[39m(\u001b[38;5;28mdir\u001b[39m(\u001b[43mS001_128\u001b[49m\u001b[38;5;241;43m.\u001b[39;49m\u001b[43mbm\u001b[49m\u001b[38;5;241m.\u001b[39mget_bm()))\n",
      "\u001b[1;31mAttributeError\u001b[0m: 'OneSignal' object has no attribute 'bm'"
     ]
    }
   ],
   "source": [
    "print(dir(S001_128.bm.get_bm()))"
   ]
  },
  {
   "cell_type": "code",
   "execution_count": null,
   "metadata": {},
   "outputs": [
    {
     "ename": "AttributeError",
     "evalue": "'OneSignal' object has no attribute 'bm'",
     "output_type": "error",
     "traceback": [
      "\u001b[1;31m---------------------------------------------------------------------------\u001b[0m",
      "\u001b[1;31mAttributeError\u001b[0m                            Traceback (most recent call last)",
      "Cell \u001b[1;32mIn[799], line 1\u001b[0m\n\u001b[1;32m----> 1\u001b[0m \u001b[38;5;28mprint\u001b[39m(\u001b[43mS001_128\u001b[49m\u001b[38;5;241;43m.\u001b[39;49m\u001b[43mbm\u001b[49m\u001b[38;5;241m.\u001b[39mget_bm()\u001b[38;5;241m.\u001b[39mindex)\n",
      "\u001b[1;31mAttributeError\u001b[0m: 'OneSignal' object has no attribute 'bm'"
     ]
    }
   ],
   "source": [
    "print(S001_128.bm.get_bm().index)"
   ]
  },
  {
   "cell_type": "code",
   "execution_count": null,
   "metadata": {},
   "outputs": [
    {
     "ename": "AttributeError",
     "evalue": "'OneSignal' object has no attribute 'bm'",
     "output_type": "error",
     "traceback": [
      "\u001b[1;31m---------------------------------------------------------------------------\u001b[0m",
      "\u001b[1;31mAttributeError\u001b[0m                            Traceback (most recent call last)",
      "Cell \u001b[1;32mIn[800], line 1\u001b[0m\n\u001b[1;32m----> 1\u001b[0m \u001b[43mS001_128\u001b[49m\u001b[38;5;241;43m.\u001b[39;49m\u001b[43mbm\u001b[49m\u001b[38;5;241m.\u001b[39mget_bm()\u001b[38;5;241m.\u001b[39mbm_vals\u001b[38;5;241m.\u001b[39mppg_sig\u001b[38;5;241m.\u001b[39mTimeStamp\n",
      "\u001b[1;31mAttributeError\u001b[0m: 'OneSignal' object has no attribute 'bm'"
     ]
    }
   ],
   "source": [
    "S001_128.bm.get_bm().bm_vals.ppg_sig.TimeStamp"
   ]
  },
  {
   "cell_type": "code",
   "execution_count": 808,
   "metadata": {},
   "outputs": [
    {
     "name": "stderr",
     "output_type": "stream",
     "text": [
      "C:\\Users\\robbe\\AppData\\Local\\Temp\\ipykernel_4948\\3870041150.py:163: DeprecationWarning: Conversion of an array with ndim > 0 to a scalar is deprecated, and will error in future. Ensure you extract a single element from your array before performing this operation. (Deprecated NumPy 1.25.)\n",
      "  o.append(int((p + p2) // 2))\n",
      "C:\\Users\\robbe\\AppData\\Local\\Temp\\ipykernel_4948\\3870041150.py:166: DeprecationWarning: Conversion of an array with ndim > 0 to a scalar is deprecated, and will error in future. Ensure you extract a single element from your array before performing this operation. (Deprecated NumPy 1.25.)\n",
      "  o.append(int((p3 + p2) // 2))\n",
      "C:\\Users\\robbe\\AppData\\Local\\Temp\\ipykernel_4948\\3870041150.py:175: DeprecationWarning: Conversion of an array with ndim > 0 to a scalar is deprecated, and will error in future. Ensure you extract a single element from your array before performing this operation. (Deprecated NumPy 1.25.)\n",
      "  o.append(int((self.peaks[-3]+self.peaks[-2]) // 2))\n",
      "C:\\Users\\robbe\\AppData\\Local\\Temp\\ipykernel_4948\\3870041150.py:177: DeprecationWarning: Conversion of an array with ndim > 0 to a scalar is deprecated, and will error in future. Ensure you extract a single element from your array before performing this operation. (Deprecated NumPy 1.25.)\n",
      "  o.append(int((self.peaks[-2] + self.peaks[-1]) // 2))\n"
     ]
    }
   ],
   "source": [
    "S001_128.align_onsets()"
   ]
  },
  {
   "cell_type": "code",
   "execution_count": 809,
   "metadata": {},
   "outputs": [
    {
     "data": {
      "text/plain": [
       "array([     0,    128,    210, ..., 230017, 230103, 230387])"
      ]
     },
     "execution_count": 809,
     "metadata": {},
     "output_type": "execute_result"
    }
   ],
   "source": [
    "S001_128.on"
   ]
  },
  {
   "cell_type": "code",
   "execution_count": 810,
   "metadata": {},
   "outputs": [
    {
     "data": {
      "text/html": [
       "<div>\n",
       "<style scoped>\n",
       "    .dataframe tbody tr th:only-of-type {\n",
       "        vertical-align: middle;\n",
       "    }\n",
       "\n",
       "    .dataframe tbody tr th {\n",
       "        vertical-align: top;\n",
       "    }\n",
       "\n",
       "    .dataframe thead th {\n",
       "        text-align: right;\n",
       "    }\n",
       "</style>\n",
       "<table border=\"1\" class=\"dataframe\">\n",
       "  <thead>\n",
       "    <tr style=\"text-align: right;\">\n",
       "      <th></th>\n",
       "      <th>on</th>\n",
       "      <th>sp</th>\n",
       "      <th>dn</th>\n",
       "      <th>dp</th>\n",
       "      <th>off</th>\n",
       "      <th>u</th>\n",
       "      <th>v</th>\n",
       "      <th>w</th>\n",
       "      <th>a</th>\n",
       "      <th>b</th>\n",
       "      <th>c</th>\n",
       "      <th>d</th>\n",
       "      <th>e</th>\n",
       "      <th>f</th>\n",
       "      <th>p1</th>\n",
       "      <th>p2</th>\n",
       "    </tr>\n",
       "    <tr>\n",
       "      <th>Index of pulse</th>\n",
       "      <th></th>\n",
       "      <th></th>\n",
       "      <th></th>\n",
       "      <th></th>\n",
       "      <th></th>\n",
       "      <th></th>\n",
       "      <th></th>\n",
       "      <th></th>\n",
       "      <th></th>\n",
       "      <th></th>\n",
       "      <th></th>\n",
       "      <th></th>\n",
       "      <th></th>\n",
       "      <th></th>\n",
       "      <th></th>\n",
       "      <th></th>\n",
       "    </tr>\n",
       "  </thead>\n",
       "  <tbody>\n",
       "    <tr>\n",
       "      <th>1000</th>\n",
       "      <td>89924</td>\n",
       "      <td>89978</td>\n",
       "      <td>89989</td>\n",
       "      <td>90045</td>\n",
       "      <td>90094</td>\n",
       "      <td>89998</td>\n",
       "      <td>90034</td>\n",
       "      <td>&lt;NA&gt;</td>\n",
       "      <td>89979</td>\n",
       "      <td>90008</td>\n",
       "      <td>&lt;NA&gt;</td>\n",
       "      <td>&lt;NA&gt;</td>\n",
       "      <td>89979</td>\n",
       "      <td>&lt;NA&gt;</td>\n",
       "      <td>90014</td>\n",
       "      <td>&lt;NA&gt;</td>\n",
       "    </tr>\n",
       "    <tr>\n",
       "      <th>1001</th>\n",
       "      <td>90094</td>\n",
       "      <td>90147</td>\n",
       "      <td>90158</td>\n",
       "      <td>90165</td>\n",
       "      <td>90196</td>\n",
       "      <td>90114</td>\n",
       "      <td>90144</td>\n",
       "      <td>90164</td>\n",
       "      <td>90097</td>\n",
       "      <td>90128</td>\n",
       "      <td>90140</td>\n",
       "      <td>90140</td>\n",
       "      <td>90154</td>\n",
       "      <td>90174</td>\n",
       "      <td>90140</td>\n",
       "      <td>90162</td>\n",
       "    </tr>\n",
       "    <tr>\n",
       "      <th>1002</th>\n",
       "      <td>90196</td>\n",
       "      <td>90226</td>\n",
       "      <td>90249</td>\n",
       "      <td>&lt;NA&gt;</td>\n",
       "      <td>90259</td>\n",
       "      <td>90213</td>\n",
       "      <td>90235</td>\n",
       "      <td>&lt;NA&gt;</td>\n",
       "      <td>90199</td>\n",
       "      <td>90226</td>\n",
       "      <td>90242</td>\n",
       "      <td>90242</td>\n",
       "      <td>90255</td>\n",
       "      <td>90254</td>\n",
       "      <td>90242</td>\n",
       "      <td>90259</td>\n",
       "    </tr>\n",
       "    <tr>\n",
       "      <th>1003</th>\n",
       "      <td>90259</td>\n",
       "      <td>90316</td>\n",
       "      <td>90327</td>\n",
       "      <td>90349</td>\n",
       "      <td>90438</td>\n",
       "      <td>90272</td>\n",
       "      <td>90301</td>\n",
       "      <td>90333</td>\n",
       "      <td>90258</td>\n",
       "      <td>90284</td>\n",
       "      <td>90300</td>\n",
       "      <td>90300</td>\n",
       "      <td>90316</td>\n",
       "      <td>90348</td>\n",
       "      <td>90300</td>\n",
       "      <td>90328</td>\n",
       "    </tr>\n",
       "    <tr>\n",
       "      <th>1004</th>\n",
       "      <td>90438</td>\n",
       "      <td>90484</td>\n",
       "      <td>90491</td>\n",
       "      <td>90508</td>\n",
       "      <td>90536</td>\n",
       "      <td>90452</td>\n",
       "      <td>90481</td>\n",
       "      <td>90492</td>\n",
       "      <td>90437</td>\n",
       "      <td>90464</td>\n",
       "      <td>90467</td>\n",
       "      <td>90467</td>\n",
       "      <td>90490</td>\n",
       "      <td>90492</td>\n",
       "      <td>90466</td>\n",
       "      <td>90467</td>\n",
       "    </tr>\n",
       "    <tr>\n",
       "      <th>1005</th>\n",
       "      <td>90536</td>\n",
       "      <td>90566</td>\n",
       "      <td>90601</td>\n",
       "      <td>&lt;NA&gt;</td>\n",
       "      <td>90626</td>\n",
       "      <td>90559</td>\n",
       "      <td>90592</td>\n",
       "      <td>&lt;NA&gt;</td>\n",
       "      <td>90544</td>\n",
       "      <td>90577</td>\n",
       "      <td>90595</td>\n",
       "      <td>90595</td>\n",
       "      <td>90603</td>\n",
       "      <td>90621</td>\n",
       "      <td>90589</td>\n",
       "      <td>90595</td>\n",
       "    </tr>\n",
       "    <tr>\n",
       "      <th>1006</th>\n",
       "      <td>90626</td>\n",
       "      <td>90650</td>\n",
       "      <td>90689</td>\n",
       "      <td>&lt;NA&gt;</td>\n",
       "      <td>90699</td>\n",
       "      <td>90654</td>\n",
       "      <td>90672</td>\n",
       "      <td>&lt;NA&gt;</td>\n",
       "      <td>90642</td>\n",
       "      <td>90669</td>\n",
       "      <td>90684</td>\n",
       "      <td>90684</td>\n",
       "      <td>90697</td>\n",
       "      <td>90696</td>\n",
       "      <td>90684</td>\n",
       "      <td>90699</td>\n",
       "    </tr>\n",
       "    <tr>\n",
       "      <th>1007</th>\n",
       "      <td>90699</td>\n",
       "      <td>90733</td>\n",
       "      <td>90751</td>\n",
       "      <td>90763</td>\n",
       "      <td>90786</td>\n",
       "      <td>90712</td>\n",
       "      <td>90738</td>\n",
       "      <td>90762</td>\n",
       "      <td>90698</td>\n",
       "      <td>90724</td>\n",
       "      <td>90737</td>\n",
       "      <td>90737</td>\n",
       "      <td>90748</td>\n",
       "      <td>90770</td>\n",
       "      <td>90734</td>\n",
       "      <td>90737</td>\n",
       "    </tr>\n",
       "    <tr>\n",
       "      <th>1008</th>\n",
       "      <td>90786</td>\n",
       "      <td>90816</td>\n",
       "      <td>90843</td>\n",
       "      <td>&lt;NA&gt;</td>\n",
       "      <td>90858</td>\n",
       "      <td>90802</td>\n",
       "      <td>90831</td>\n",
       "      <td>&lt;NA&gt;</td>\n",
       "      <td>90790</td>\n",
       "      <td>90816</td>\n",
       "      <td>90828</td>\n",
       "      <td>90828</td>\n",
       "      <td>90856</td>\n",
       "      <td>90855</td>\n",
       "      <td>90828</td>\n",
       "      <td>90858</td>\n",
       "    </tr>\n",
       "    <tr>\n",
       "      <th>1009</th>\n",
       "      <td>90858</td>\n",
       "      <td>90898</td>\n",
       "      <td>90929</td>\n",
       "      <td>&lt;NA&gt;</td>\n",
       "      <td>90947</td>\n",
       "      <td>90882</td>\n",
       "      <td>90914</td>\n",
       "      <td>&lt;NA&gt;</td>\n",
       "      <td>90862</td>\n",
       "      <td>90899</td>\n",
       "      <td>90914</td>\n",
       "      <td>90914</td>\n",
       "      <td>90945</td>\n",
       "      <td>90944</td>\n",
       "      <td>90914</td>\n",
       "      <td>90947</td>\n",
       "    </tr>\n",
       "  </tbody>\n",
       "</table>\n",
       "</div>"
      ],
      "text/plain": [
       "                   on     sp     dn     dp    off      u      v      w      a  \\\n",
       "Index of pulse                                                                  \n",
       "1000            89924  89978  89989  90045  90094  89998  90034   <NA>  89979   \n",
       "1001            90094  90147  90158  90165  90196  90114  90144  90164  90097   \n",
       "1002            90196  90226  90249   <NA>  90259  90213  90235   <NA>  90199   \n",
       "1003            90259  90316  90327  90349  90438  90272  90301  90333  90258   \n",
       "1004            90438  90484  90491  90508  90536  90452  90481  90492  90437   \n",
       "1005            90536  90566  90601   <NA>  90626  90559  90592   <NA>  90544   \n",
       "1006            90626  90650  90689   <NA>  90699  90654  90672   <NA>  90642   \n",
       "1007            90699  90733  90751  90763  90786  90712  90738  90762  90698   \n",
       "1008            90786  90816  90843   <NA>  90858  90802  90831   <NA>  90790   \n",
       "1009            90858  90898  90929   <NA>  90947  90882  90914   <NA>  90862   \n",
       "\n",
       "                    b      c      d      e      f     p1     p2  \n",
       "Index of pulse                                                   \n",
       "1000            90008   <NA>   <NA>  89979   <NA>  90014   <NA>  \n",
       "1001            90128  90140  90140  90154  90174  90140  90162  \n",
       "1002            90226  90242  90242  90255  90254  90242  90259  \n",
       "1003            90284  90300  90300  90316  90348  90300  90328  \n",
       "1004            90464  90467  90467  90490  90492  90466  90467  \n",
       "1005            90577  90595  90595  90603  90621  90589  90595  \n",
       "1006            90669  90684  90684  90697  90696  90684  90699  \n",
       "1007            90724  90737  90737  90748  90770  90734  90737  \n",
       "1008            90816  90828  90828  90856  90855  90828  90858  \n",
       "1009            90899  90914  90914  90945  90944  90914  90947  "
      ]
     },
     "execution_count": 810,
     "metadata": {},
     "output_type": "execute_result"
    }
   ],
   "source": [
    "S001_128.fp.get_fp()[1000:1010]"
   ]
  },
  {
   "cell_type": "code",
   "execution_count": 811,
   "metadata": {},
   "outputs": [
    {
     "data": {
      "text/plain": [
       "(2603, 1)"
      ]
     },
     "execution_count": 811,
     "metadata": {},
     "output_type": "execute_result"
    }
   ],
   "source": [
    "S001_128.peaks.shape"
   ]
  },
  {
   "cell_type": "code",
   "execution_count": 812,
   "metadata": {},
   "outputs": [
    {
     "ename": "ValueError",
     "evalue": "operands could not be broadcast together with shapes (2604,) (2603,) ",
     "output_type": "error",
     "traceback": [
      "\u001b[1;31m---------------------------------------------------------------------------\u001b[0m",
      "\u001b[1;31mValueError\u001b[0m                                Traceback (most recent call last)",
      "Cell \u001b[1;32mIn[812], line 2\u001b[0m\n\u001b[0;32m      1\u001b[0m \u001b[38;5;66;03m# Check for correct onset alignment with peaks:\u001b[39;00m\n\u001b[1;32m----> 2\u001b[0m \u001b[38;5;28mprint\u001b[39m(\u001b[38;5;124mf\u001b[39m\u001b[38;5;124m\"\"\"\u001b[39m\u001b[38;5;124m1) onset at index i occurs before the peak  at index i+1: \u001b[39m\u001b[38;5;132;01m{\u001b[39;00mnp\u001b[38;5;241m.\u001b[39mall(\u001b[43mS001_128\u001b[49m\u001b[38;5;241;43m.\u001b[39;49m\u001b[43mon\u001b[49m\u001b[43m[\u001b[49m\u001b[43m:\u001b[49m\u001b[38;5;241;43m-\u001b[39;49m\u001b[38;5;241;43m1\u001b[39;49m\u001b[43m]\u001b[49m\u001b[38;5;250;43m \u001b[39;49m\u001b[38;5;241;43m<\u001b[39;49m\u001b[38;5;250;43m \u001b[39;49m\u001b[43mS001_128\u001b[49m\u001b[38;5;241;43m.\u001b[39;49m\u001b[43mpeaks\u001b[49m\u001b[38;5;241;43m.\u001b[39;49m\u001b[43mflatten\u001b[49m\u001b[43m(\u001b[49m\u001b[43m)\u001b[49m)\u001b[38;5;132;01m}\u001b[39;00m\u001b[38;5;124m\"\"\"\u001b[39m)\n\u001b[0;32m      3\u001b[0m \u001b[38;5;28;01mif\u001b[39;00m \u001b[38;5;129;01mnot\u001b[39;00m np\u001b[38;5;241m.\u001b[39mall(S001_128\u001b[38;5;241m.\u001b[39mon[:\u001b[38;5;241m-\u001b[39m\u001b[38;5;241m1\u001b[39m] \u001b[38;5;241m<\u001b[39m S001_128\u001b[38;5;241m.\u001b[39mpeaks\u001b[38;5;241m.\u001b[39mflatten()):\n\u001b[0;32m      4\u001b[0m     \u001b[38;5;28mprint\u001b[39m(\u001b[38;5;124mf\u001b[39m\u001b[38;5;124m\"\u001b[39m\u001b[38;5;124m   --> incorrect at index: \u001b[39m\u001b[38;5;132;01m{\u001b[39;00mnp\u001b[38;5;241m.\u001b[39mwhere((S001_128\u001b[38;5;241m.\u001b[39mon[:\u001b[38;5;241m-\u001b[39m\u001b[38;5;241m1\u001b[39m]\u001b[38;5;250m \u001b[39m\u001b[38;5;241m<\u001b[39m\u001b[38;5;250m \u001b[39mS001_128\u001b[38;5;241m.\u001b[39mpeaks\u001b[38;5;241m.\u001b[39mflatten())\u001b[38;5;250m \u001b[39m\u001b[38;5;241m==\u001b[39m\u001b[38;5;250m \u001b[39m\u001b[38;5;241m0\u001b[39m)[\u001b[38;5;241m0\u001b[39m]\u001b[38;5;132;01m}\u001b[39;00m\u001b[38;5;124m\"\u001b[39m)\n",
      "\u001b[1;31mValueError\u001b[0m: operands could not be broadcast together with shapes (2604,) (2603,) "
     ]
    }
   ],
   "source": [
    "# Check for correct onset alignment with peaks:\n",
    "print(f\"\"\"1) onset at index i occurs before the peak  at index i+1: {np.all(S001_128.on[:-1] < S001_128.peaks.flatten())}\"\"\")\n",
    "if not np.all(S001_128.on[:-1] < S001_128.peaks.flatten()):\n",
    "    print(f\"   --> incorrect at index: {np.where((S001_128.on[:-1] < S001_128.peaks.flatten()) == 0)[0]}\")\n",
    "print(f\"\"\"2) peak  at index i occurs before the onset at index i+1: {np.all(S001_128.peaks.flatten() < S001_128.on[1:])}\"\"\")\n",
    "if not np.all(S001_128.peaks.flatten() < S001_128.on[1:]):\n",
    "    print(f\"   --> incorrect at index: {np.where((S001_128.peaks.flatten() < S001_128.on[1:]) == 0)[0]}\")"
   ]
  },
  {
   "cell_type": "code",
   "execution_count": 813,
   "metadata": {},
   "outputs": [
    {
     "ename": "ValueError",
     "evalue": "operands could not be broadcast together with shapes (2603,) (2605,) ",
     "output_type": "error",
     "traceback": [
      "\u001b[1;31m---------------------------------------------------------------------------\u001b[0m",
      "\u001b[1;31mValueError\u001b[0m                                Traceback (most recent call last)",
      "Cell \u001b[1;32mIn[813], line 1\u001b[0m\n\u001b[1;32m----> 1\u001b[0m np\u001b[38;5;241m.\u001b[39mwhere((\u001b[43mS001_128\u001b[49m\u001b[38;5;241;43m.\u001b[39;49m\u001b[43mpeaks\u001b[49m\u001b[38;5;241;43m.\u001b[39;49m\u001b[43mflatten\u001b[49m\u001b[43m(\u001b[49m\u001b[43m)\u001b[49m\u001b[43m \u001b[49m\u001b[38;5;241;43m<\u001b[39;49m\u001b[43m \u001b[49m\u001b[43mS001_128\u001b[49m\u001b[38;5;241;43m.\u001b[39;49m\u001b[43mon\u001b[49m)\u001b[38;5;241m==\u001b[39m\u001b[38;5;241m1\u001b[39m),\\\n\u001b[0;32m      2\u001b[0m np\u001b[38;5;241m.\u001b[39mall((S001_128\u001b[38;5;241m.\u001b[39mpeaks\u001b[38;5;241m.\u001b[39mflatten() \u001b[38;5;241m<\u001b[39m S001_128\u001b[38;5;241m.\u001b[39mon)\u001b[38;5;241m==\u001b[39m\u001b[38;5;241m1\u001b[39m)\n",
      "\u001b[1;31mValueError\u001b[0m: operands could not be broadcast together with shapes (2603,) (2605,) "
     ]
    }
   ],
   "source": [
    "np.where((S001_128.peaks.flatten() < S001_128.on)==1),\\\n",
    "np.all((S001_128.peaks.flatten() < S001_128.on)==1)"
   ]
  },
  {
   "cell_type": "code",
   "execution_count": 698,
   "metadata": {},
   "outputs": [
    {
     "data": {
      "text/plain": [
       "(array([100038, 100137, 100236, 100335]),\n",
       " array([100013, 100186, 100285, 100412, 100498]))"
      ]
     },
     "execution_count": 698,
     "metadata": {},
     "output_type": "execute_result"
    }
   ],
   "source": [
    "S001_128.peaks.flatten()[1004:1008], S001_128.on[1004:1009]"
   ]
  },
  {
   "cell_type": "code",
   "execution_count": 699,
   "metadata": {},
   "outputs": [],
   "source": [
    "a, b = S001_128.peaks.flatten()[-3:], S001_128.on[-5:]\n",
    "a, b = S001_128.peaks.flatten(), S001_128.on"
   ]
  },
  {
   "cell_type": "code",
   "execution_count": 815,
   "metadata": {},
   "outputs": [
    {
     "data": {
      "image/png": "[encoded data removed]",
      "text/plain": [
       "<Figure size 640x480 with 1 Axes>"
      ]
     },
     "metadata": {},
     "output_type": "display_data"
    }
   ],
   "source": [
    "import matplotlib.pyplot as plt\n",
    "\n",
    "added_onsets = [e for e in S001_128.on if e not in list(S001_128.fp.get_fp().on)]\n",
    "\n",
    "plt.scatter(a, np.ones(len(a)), label='peaks', alpha=0.75)\n",
    "plt.scatter(b, np.ones(len(b)), label='onsets', alpha=0.75)\n",
    "plt.scatter(added_onsets, np.ones(len(added_onsets)), label='added onsets', marker='*', alpha=1, color='k')\n",
    "plt.legend()\n",
    "\n",
    "plt.xlim([229500, 230500])\n",
    "# plt.xlim([11000, 12000])\n",
    "# plt.xlim([0, 1000])\n",
    "# plt.xlim([100000, 101000])\n",
    "plt.show()"
   ]
  },
  {
   "cell_type": "code",
   "execution_count": 216,
   "metadata": {},
   "outputs": [
    {
     "data": {
      "image/png": "[encoded data removed]",
      "text/plain": [
       "<Figure size 640x480 with 1 Axes>"
      ]
     },
     "metadata": {},
     "output_type": "display_data"
    }
   ],
   "source": [
    "plt.hist(S001_128.peaks.flatten() - S001_128.on[:-(n_on-n_peaks)], bins=50, alpha=0.5, label='time from onset to peak')\n",
    "plt.hist(S001_128.on[1:-(n_on-n_peaks)+1] - S001_128.peaks.flatten(), bins=50, alpha=0.5, label='time from peak to next onset')\n",
    "plt.legend()\n",
    "plt.show()"
   ]
  },
  {
   "cell_type": "code",
   "execution_count": 201,
   "metadata": {},
   "outputs": [
    {
     "data": {
      "text/plain": [
       "(2507,)"
      ]
     },
     "execution_count": 201,
     "metadata": {},
     "output_type": "execute_result"
    }
   ],
   "source": [
    "S001_128.fp.get_fp().on.shape"
   ]
  },
  {
   "cell_type": "code",
   "execution_count": 202,
   "metadata": {},
   "outputs": [
    {
     "data": {
      "text/plain": [
       "98"
      ]
     },
     "execution_count": 202,
     "metadata": {},
     "output_type": "execute_result"
    }
   ],
   "source": [
    "# Number of onsets added which were not in fiducials:\n",
    "len([e for e in S001_128.on if e not in list(S001_128.fp.get_fp().on)])"
   ]
  },
  {
   "cell_type": "code",
   "execution_count": 226,
   "metadata": {},
   "outputs": [
    {
     "data": {
      "text/plain": [
       "0"
      ]
     },
     "execution_count": 226,
     "metadata": {},
     "output_type": "execute_result"
    }
   ],
   "source": [
    "# Number of fiducials which were not used for the final onset list:\n",
    "len([e for e in list(S001_128.fp.get_fp().on) if e not in S001_128.on])"
   ]
  },
  {
   "cell_type": "code",
   "execution_count": 223,
   "metadata": {},
   "outputs": [
    {
     "data": {
      "text/plain": [
       "10.666553047738331"
      ]
     },
     "execution_count": 223,
     "metadata": {},
     "output_type": "execute_result"
    }
   ],
   "source": [
    "(S001_128.peaks.flatten() - S001_128.on[:-(n_on-n_peaks)]).std()"
   ]
  },
  {
   "cell_type": "code",
   "execution_count": 224,
   "metadata": {},
   "outputs": [
    {
     "data": {
      "text/plain": [
       "13.640112929364664"
      ]
     },
     "execution_count": 224,
     "metadata": {},
     "output_type": "execute_result"
    }
   ],
   "source": [
    "(S001_128.on[1:-(n_on-n_peaks)+1] - S001_128.peaks.flatten()).std()"
   ]
  },
  {
   "cell_type": "markdown",
   "metadata": {},
   "source": [
    "## NEW WAY of ALIGNING ONSETS"
   ]
  },
  {
   "cell_type": "code",
   "execution_count": 987,
   "metadata": {},
   "outputs": [],
   "source": [
    "class OneSignal:\n",
    "    def __init__(self, data_name = None):\n",
    "        \"\"\"\n",
    "        :param\n",
    "            --data_name: filename like 'S001_128.mat' or tuple (data_path,label_path,peaks_path)\n",
    "        \"\"\"\n",
    "        super().__init__()\n",
    "        parent = 'dataset'\n",
    "        child = [\"data\", \"label\", \"peaks\"]\n",
    "        if not isinstance(data_name,tuple):\n",
    "            self.data_path = os.path.join(parent, child[0], data_name)\n",
    "            self.label_path = os.path.join(parent, child[1], data_name)\n",
    "            self.peaks_path = os.path.join(parent, child[2], data_name)\n",
    "            self.name = data_name\n",
    "        else:\n",
    "            self.data_path = data_name[0]\n",
    "            self.label_path = data_name[1]\n",
    "            self.peaks_path = data_name[2]\n",
    "            self.name = data_name[0].split('.')[0][-8:]\n",
    "\n",
    "        self.raw = scipy.io.loadmat(self.data_path)['ppg']\n",
    "        self.fs = int(self.data_path.split('.')[0][-3:])\n",
    "        self.ppg = \"call .filter() to calculate\"\n",
    "        self.vpg = \"call .filter() to calculate\"\n",
    "        self.jpg = \"call .filter() to calculate\"\n",
    "        self.apg = \"call .filter() to calculate\"\n",
    "        # self.on = \"call .filter() to calculate\"\n",
    "        self.peaks = scipy.io.loadmat(self.peaks_path)['speaks']\n",
    "        self.labels = scipy.io.loadmat(self.label_path)['labels']\n",
    "\n",
    "        self.v = np.squeeze(self.raw)\n",
    "        correction = pd.DataFrame()\n",
    "        corr_on = ['on', 'dn', 'dp', 'v', 'w', 'f']\n",
    "        correction.loc[0, corr_on] = True\n",
    "        self.correction = correction\n",
    "\n",
    "        # Prepare onset alignment with provided peaks (from fiducials)\n",
    "        self.indx = 0 # peak to crop\n",
    "        self.indx_max = int(self.peaks.shape[0])\n",
    "\n",
    "    def filter(self, fL=0.8, fH=3.3, order=4, sm = {'ppg':50,'vpg':10,'apg':10,'jpg':10}, data_min= -90, data_max= 90):\n",
    "\n",
    "        print(f'filtering signal {self.name}...')\n",
    "        # Class which the functions need...\n",
    "        s = DotMap()\n",
    "        s.end_sig = -1\n",
    "        s.v = np.squeeze(self.raw)\n",
    "        s.fs = self.fs\n",
    "        s.filtering = True\n",
    "        s.name = self.name\n",
    "        corr_on = ['on', 'dn', 'dp', 'v', 'w', 'f']\n",
    "        correction = pd.DataFrame()\n",
    "        correction.loc[0, corr_on] = True\n",
    "        s.correct = correction\n",
    "\n",
    "        # Filters signal through BP filter [fL,fH]\n",
    "        prep = Preprocess(fL=fL, fH=fH, order=order, sm_wins=sm)\n",
    "        s.ppg, s.vpg, s.apg, s.jpg = prep.get_signals(s=s)\n",
    "        self.ppg = s.ppg\n",
    "        self.vpg = s.vpg\n",
    "        self.apg = s.apg\n",
    "        self.jpg = s.jpg\n",
    "\n",
    "        self.s = PPG(s)\n",
    "\n",
    "    def get_fiducials(self):\n",
    "        # Initialize fiducials package\n",
    "        fpex = FpCollection(s=self.s)\n",
    "        # Extract fiducial points (e.g. 'on': peak onsets)\n",
    "        fiducials = fpex.get_fiducials(s=self.s, ext_peaks=self.peaks)\n",
    "        # Create a fiducials class\n",
    "        self.fp = Fiducials(fiducials)\n",
    "\n",
    "    def get_biomarkers(self):\n",
    "        # Initialize biomarkers package\n",
    "        bmex = BM.BmCollection(s=self.s, fp=self.fp)\n",
    "        # Extract biomarkers\n",
    "        bm_defs, bm_vals, bm_stats = bmex.get_biomarkers()\n",
    "\n",
    "        # tmp_keys=bm_stats.keys()\n",
    "        # print('Statistics of the biomarkers:')\n",
    "        # for i in tmp_keys: print(i,'\\n',bm_stats[i])\n",
    "\n",
    "        # Create a biomarkers class\n",
    "        self.bm = Biomarkers(bm_defs, bm_vals, bm_stats)\n",
    "\n",
    "    def align_onsets(self):\n",
    "        # Prepare onset alignment with provided peaks (from fiducials)\n",
    "        self.get_fiducials()\n",
    "        onsets, peaks = list(self.fp.get_fp().on).copy(), list(self.peaks.flatten())\n",
    "        \n",
    "        # Always include the first onset in the filtered list\n",
    "        # If no onset detected before first peak\n",
    "        if onsets[0] >= peaks[0]:\n",
    "            print('No onset detected before first peak')\n",
    "            filtered_onsets = [0]\n",
    "            # Remaining onsets to be considered: all of them\n",
    "            remaining_onsets = onsets\n",
    "        else:\n",
    "            onsets_before_first_peak = [onset for onset in onsets if onset < peaks[0]]\n",
    "            filtered_onsets = [onsets_before_first_peak[-1]]\n",
    "            # Remaining onsets to be considered: \n",
    "            remaining_onsets = onsets[len(onsets_before_first_peak):]\n",
    "        \n",
    "        # Iterate through peaks to determine the closest onset for each peak\n",
    "        for i in range(len(peaks) - 1):\n",
    "            # Current and next peaks\n",
    "            peak = peaks[i]\n",
    "            next_peak = peaks[i + 1]\n",
    "\n",
    "            # Find the onsets that lie between the current and next peak\n",
    "            possible_onsets = [onset for onset in remaining_onsets if (peak < onset) and (onset < next_peak)]\n",
    "\n",
    "            if not possible_onsets:\n",
    "                # If no onset is detected between two peaks, add one in the middle\n",
    "                middle_onset = int((peak + next_peak) / 2)\n",
    "                filtered_onsets.append(middle_onset)\n",
    "                # print('onset added at: ', middle_onset)\n",
    "            else:\n",
    "                # Find the onset that minimizes the distance to the next peak\n",
    "                closest_onset = min(possible_onsets, key=lambda x: abs(x - next_peak))\n",
    "                # Include the closest onset in the filtered list\n",
    "                filtered_onsets.append(closest_onset)\n",
    "                # Remove the chosen onset from the remaining onsets\n",
    "                remaining_onsets = [onset for onset in remaining_onsets if (onset not in possible_onsets) and (onset > next_peak)]\n",
    "                # if len(possible_onsets) >= 2:\n",
    "                #     print('multiple onsets between peaks: ', possible_onsets)\n",
    "\n",
    "        # Include the last onset in the filtered list\n",
    "        if remaining_onsets:\n",
    "            print('remaining onsets: ', remaining_onsets)\n",
    "            filtered_onsets.append(remaining_onsets[-1])\n",
    "        else:\n",
    "            print('added end of signal')\n",
    "            filtered_onsets.append(int(len(self.ppg)-1))\n",
    "        \n",
    "        self.on = np.array(filtered_onsets, dtype=int)\n",
    "    \n",
    "    def crop(self):\n",
    "        crop = self.ppg[self.on[self.indx]:self.on[self.indx+1]]\n",
    "        lab = self.labels[self.indx]\n",
    "        self.indx+=1\n",
    "        return (crop, lab)\n",
    "\n",
    "class Crops():\n",
    "    def __init__(self, N=\"N_crops.h5\", V=\"V_crops.h5\", S=\"S_crops.h5\", parent=Path('dataset/crops'), seed=36):\n",
    "        super().__init__()\n",
    "        names_list = [N,V,S]\n",
    "        for names in names_list:\n",
    "            print(f\"loading {names}...\")\n",
    "            with h5py.File(parent / names, 'r') as file:\n",
    "                name = Path(names).stem\n",
    "                setattr(self, name, [file[key][:] for key in file.keys() if key != 'labels'])\n",
    "                setattr(self, f\"{name[0]}_labels\", list(file['labels'][:].astype('U')))\n",
    "\n",
    "        self.seed = seed\n",
    "\n",
    "    def split(self, test_size=.15):\n",
    "        x = self.V_crops + self.S_crops + self.N_crops\n",
    "        y = self.V_labels + self.S_labels + self.N_labels\n",
    "\n",
    "        x_train_val, x_test, y_train_val, y_test = train_test_split(x, y, random_state=self.seed, test_size=test_size,\n",
    "                                                                    shuffle=True, stratify=y)\n",
    "        x_train, x_val, y_train, y_val = train_test_split(x_train_val, y_train_val, random_state=self.seed, test_size=len(x_test),\n",
    "                                                                    shuffle=True, stratify=y_train_val)\n",
    "        setattr(self,'train', [(x, y) for x, y in zip(x_train, y_train)])\n",
    "        setattr(self,'val', [(x, y) for x, y in zip(x_val, y_val)])\n",
    "        setattr(self,'test', [(x, y) for x, y in zip(x_test, y_test)])"
   ]
  },
  {
   "cell_type": "code",
   "execution_count": 988,
   "metadata": {},
   "outputs": [
    {
     "name": "stderr",
     "output_type": "stream",
     "text": [
      "C:\\Users\\robbe\\AppData\\Local\\Temp\\ipykernel_4948\\313786618.py:34: FutureWarning: Setting an item of incompatible dtype is deprecated and will raise in a future error of pandas. Value 'True' has dtype incompatible with float64, please explicitly cast to a compatible dtype first.\n",
      "  correction.loc[0, corr_on] = True\n"
     ]
    }
   ],
   "source": [
    "data_name = \"S050_128.mat\"\n",
    "S001_128 = OneSignal(data_name)"
   ]
  },
  {
   "cell_type": "code",
   "execution_count": 990,
   "metadata": {},
   "outputs": [
    {
     "name": "stdout",
     "output_type": "stream",
     "text": [
      "filtering signal S050_128.mat...\n"
     ]
    },
    {
     "name": "stderr",
     "output_type": "stream",
     "text": [
      "C:\\Users\\robbe\\AppData\\Local\\Temp\\ipykernel_4948\\313786618.py:53: FutureWarning: Setting an item of incompatible dtype is deprecated and will raise in a future error of pandas. Value 'True' has dtype incompatible with float64, please explicitly cast to a compatible dtype first.\n",
      "  correction.loc[0, corr_on] = True\n",
      "c:\\Users\\robbe\\OneDrive - UGent\\UGent\\Ma2\\Methods & Applications of AI in Biomedicine [I.C.]\\Applied AI in Biomedicine (Corino Valentina)\\AI_PPG\\preprocessing\\__init__.py:62: FutureWarning: Setting an item of incompatible dtype is deprecated and will raise in a future error of pandas. Value 'True' has dtype incompatible with float64, please explicitly cast to a compatible dtype first.\n",
      "  correction.loc[0, corr_on] = True\n"
     ]
    }
   ],
   "source": [
    "S001_128.filter()"
   ]
  },
  {
   "cell_type": "code",
   "execution_count": 991,
   "metadata": {},
   "outputs": [],
   "source": [
    "# S001_128.get_fiducials()"
   ]
  },
  {
   "cell_type": "code",
   "execution_count": 992,
   "metadata": {},
   "outputs": [
    {
     "name": "stdout",
     "output_type": "stream",
     "text": [
      "added end of signal\n"
     ]
    }
   ],
   "source": [
    "S001_128.align_onsets()"
   ]
  },
  {
   "cell_type": "code",
   "execution_count": 993,
   "metadata": {},
   "outputs": [
    {
     "name": "stdout",
     "output_type": "stream",
     "text": [
      "(2384,)\n"
     ]
    }
   ],
   "source": [
    "print(S001_128.on.shape)"
   ]
  },
  {
   "cell_type": "code",
   "execution_count": 994,
   "metadata": {},
   "outputs": [
    {
     "data": {
      "text/plain": [
       "(2383, 1)"
      ]
     },
     "execution_count": 994,
     "metadata": {},
     "output_type": "execute_result"
    }
   ],
   "source": [
    "S001_128.peaks.shape"
   ]
  },
  {
   "cell_type": "code",
   "execution_count": 995,
   "metadata": {},
   "outputs": [
    {
     "name": "stdout",
     "output_type": "stream",
     "text": [
      "1) onset at index i occurs before the peak  at index i+1: True\n",
      "2) peak  at index i occurs before the onset at index i+1: True\n"
     ]
    }
   ],
   "source": [
    "# Check for correct onset alignment with peaks:\n",
    "n_peaks = len(S001_128.peaks.flatten())\n",
    "n_on = len(S001_128.on)\n",
    "print(f\"\"\"1) onset at index i occurs before the peak  at index i+1: {np.all(S001_128.on[:-(n_on-n_peaks)] < S001_128.peaks.flatten())}\"\"\")\n",
    "if not np.all(S001_128.on[:-(n_on-n_peaks)] < S001_128.peaks.flatten()):\n",
    "    print(f\"   --> incorrect at index: {np.where(np.all(S001_128.on[:-(n_on-n_peaks)] < S001_128.peaks.flatten()) == 0)}\")\n",
    "print(f\"\"\"2) peak  at index i occurs before the onset at index i+1: {np.all(S001_128.peaks.flatten() < S001_128.on[1:])}\"\"\")\n",
    "if not np.all(S001_128.peaks.flatten() < S001_128.on[1:]):\n",
    "    print(f\"   --> incorrect at index: {np.where((S001_128.peaks.flatten() < S001_128.on[1:]) == 0)[0]}\")"
   ]
  },
  {
   "cell_type": "code",
   "execution_count": 982,
   "metadata": {},
   "outputs": [
    {
     "data": {
      "text/plain": [
       "True"
      ]
     },
     "execution_count": 982,
     "metadata": {},
     "output_type": "execute_result"
    }
   ],
   "source": [
    "# np.all(S001_128.peaks.flatten() < np.concatenate([S001_128.on[1:-3], S001_128.on[-2:]]))\n",
    "np.all(S001_128.peaks.flatten() < S001_128.on[1:])"
   ]
  },
  {
   "cell_type": "code",
   "execution_count": 983,
   "metadata": {},
   "outputs": [
    {
     "data": {
      "text/plain": [
       "(array([], dtype=int64),)"
      ]
     },
     "execution_count": 983,
     "metadata": {},
     "output_type": "execute_result"
    }
   ],
   "source": [
    "np.where((S001_128.on[:-1] < S001_128.peaks.flatten()) == 0)"
   ]
  },
  {
   "cell_type": "code",
   "execution_count": 984,
   "metadata": {},
   "outputs": [
    {
     "data": {
      "text/plain": [
       "(array([], dtype=int64),)"
      ]
     },
     "execution_count": 984,
     "metadata": {},
     "output_type": "execute_result"
    }
   ],
   "source": [
    "np.where((S001_128.peaks.flatten() < S001_128.on[1:]) == 0)"
   ]
  },
  {
   "cell_type": "code",
   "execution_count": 971,
   "metadata": {},
   "outputs": [
    {
     "name": "stdout",
     "output_type": "stream",
     "text": [
      "[229625 229687 229734 229838 229917 229983 230051 230130 230199 230434]\n"
     ]
    }
   ],
   "source": [
    "print(S001_128.on[-10:])"
   ]
  },
  {
   "cell_type": "code",
   "execution_count": 972,
   "metadata": {},
   "outputs": [],
   "source": [
    "a, b = S001_128.peaks.flatten()[-3:], S001_128.on[-5:]\n",
    "a, b = S001_128.peaks.flatten(), S001_128.on"
   ]
  },
  {
   "cell_type": "code",
   "execution_count": 973,
   "metadata": {},
   "outputs": [
    {
     "data": {
      "image/png": "[encoded data removed]",
      "text/plain": [
       "<Figure size 640x480 with 1 Axes>"
      ]
     },
     "metadata": {},
     "output_type": "display_data"
    }
   ],
   "source": [
    "import matplotlib.pyplot as plt\n",
    "\n",
    "added_onsets = [e for e in S001_128.on if e not in list(S001_128.fp.get_fp().on)]\n",
    "\n",
    "plt.scatter(a, np.ones(len(a)), label='peaks')\n",
    "plt.scatter(b, np.ones(len(b)), label='onsets', marker='2')\n",
    "plt.scatter(added_onsets, np.ones(len(added_onsets)), label='added onsets', marker='*', alpha=1, color='k')\n",
    "plt.legend()\n",
    "\n",
    "plt.xlim([229500, 230500])\n",
    "plt.xlim([11000, 12000])\n",
    "plt.xlim([99800, 100300])\n",
    "plt.show()"
   ]
  },
  {
   "cell_type": "code",
   "execution_count": 938,
   "metadata": {},
   "outputs": [
    {
     "data": {
      "image/png": "[encoded data removed]",
      "text/plain": [
       "<Figure size 640x480 with 1 Axes>"
      ]
     },
     "metadata": {},
     "output_type": "display_data"
    }
   ],
   "source": [
    "plt.hist(S001_128.peaks.flatten() - S001_128.on[:-1], bins=50, alpha=0.5, label='time from onset to peak')\n",
    "plt.hist(S001_128.on[1:] - S001_128.peaks.flatten(), bins=50, alpha=0.5, label='time from peak to next onset')\n",
    "plt.legend()\n",
    "plt.show()"
   ]
  },
  {
   "cell_type": "code",
   "execution_count": null,
   "metadata": {},
   "outputs": [
    {
     "data": {
      "text/plain": [
       "(2507,)"
      ]
     },
     "metadata": {},
     "output_type": "display_data"
    }
   ],
   "source": [
    "S001_128.fp.get_fp().on.shape"
   ]
  },
  {
   "cell_type": "code",
   "execution_count": null,
   "metadata": {},
   "outputs": [
    {
     "data": {
      "text/plain": [
       "98"
      ]
     },
     "metadata": {},
     "output_type": "display_data"
    }
   ],
   "source": [
    "# Number of onsets added which were not in fiducials:\n",
    "len([e for e in S001_128.on if e not in list(S001_128.fp.get_fp().on)])"
   ]
  },
  {
   "cell_type": "code",
   "execution_count": null,
   "metadata": {},
   "outputs": [
    {
     "data": {
      "text/plain": [
       "0"
      ]
     },
     "metadata": {},
     "output_type": "display_data"
    }
   ],
   "source": [
    "# Number of fiducials which were not used for the final onset list:\n",
    "len([e for e in list(S001_128.fp.get_fp().on) if e not in S001_128.on])"
   ]
  },
  {
   "cell_type": "code",
   "execution_count": 955,
   "metadata": {},
   "outputs": [
    {
     "data": {
      "text/plain": [
       "48.20496894409938"
      ]
     },
     "execution_count": 955,
     "metadata": {},
     "output_type": "execute_result"
    }
   ],
   "source": [
    "(S001_128.peaks.flatten() - S001_128.on[:-1]).mean()"
   ]
  },
  {
   "cell_type": "code",
   "execution_count": 956,
   "metadata": {},
   "outputs": [
    {
     "data": {
      "text/plain": [
       "70.99482401656314"
      ]
     },
     "execution_count": 956,
     "metadata": {},
     "output_type": "execute_result"
    }
   ],
   "source": [
    "(S001_128.on[1:] - S001_128.peaks.flatten()).mean()"
   ]
  },
  {
   "cell_type": "code",
   "execution_count": 960,
   "metadata": {},
   "outputs": [
    {
     "data": {
      "text/plain": [
       "128"
      ]
     },
     "execution_count": 960,
     "metadata": {},
     "output_type": "execute_result"
    }
   ],
   "source": [
    "S001_128.fs"
   ]
  },
  {
   "cell_type": "code",
   "execution_count": 737,
   "metadata": {},
   "outputs": [
    {
     "name": "stdout",
     "output_type": "stream",
     "text": [
      "[1, 3, 5.5, 6, 8]\n"
     ]
    }
   ],
   "source": [
    "def filter_onsets(onsets, peaks):\n",
    "    filtered_onsets = [onsets[0]]  # Always include the first onset\n",
    "    remaining_onsets = onsets[1:]\n",
    "\n",
    "    for peak in peaks:\n",
    "        closest_onset = min(remaining_onsets, key=lambda x: abs(x - peak))\n",
    "        remaining_onsets.remove(closest_onset)\n",
    "        filtered_onsets.append(closest_onset)\n",
    "\n",
    "    return filtered_onsets\n",
    "\n",
    "# Example usage:\n",
    "onsets = [1, 3, 5.5, 6, 8, 10]\n",
    "peaks = [2, 5, 7, 9]\n",
    "\n",
    "result = filter_onsets(onsets, peaks)\n",
    "print(result)"
   ]
  },
  {
   "cell_type": "code",
   "execution_count": 738,
   "metadata": {},
   "outputs": [
    {
     "name": "stdout",
     "output_type": "stream",
     "text": [
      "[1, 3, 5.5, 6, 8]\n"
     ]
    }
   ],
   "source": [
    "def filter_onsets(onsets, peaks):\n",
    "    filtered_onsets = [onsets[0]]  # Always include the first onset\n",
    "    remaining_onsets = onsets[1:]\n",
    "\n",
    "    for peak in peaks:\n",
    "        closest_onset = min(remaining_onsets, key=lambda x: abs(x - peak))\n",
    "        remaining_onsets = [onset for onset in remaining_onsets if onset != closest_onset]\n",
    "        filtered_onsets.append(closest_onset)\n",
    "\n",
    "    return filtered_onsets\n",
    "\n",
    "# Example usage:\n",
    "onsets = [1, 3, 5.5, 6, 8, 10]\n",
    "peaks = [2, 5, 7, 9]\n",
    "\n",
    "result = filter_onsets(onsets, peaks)\n",
    "print(result)"
   ]
  },
  {
   "cell_type": "code",
   "execution_count": 751,
   "metadata": {},
   "outputs": [
    {
     "name": "stdout",
     "output_type": "stream",
     "text": [
      "[1, 3, 6, 8, 10]\n"
     ]
    }
   ],
   "source": [
    "def filter_onsets(onsets, peaks):\n",
    "    # Always include the first onset in the filtered list\n",
    "    filtered_onsets = [onsets[0]]\n",
    "    # Remaining onsets to be considered\n",
    "    remaining_onsets = onsets[1:]\n",
    "\n",
    "    # Iterate through peaks to determine the closest onset for each peak\n",
    "    for i in range(len(peaks) - 1):\n",
    "        # Current and next peaks\n",
    "        peak = peaks[i]\n",
    "        next_peak = peaks[i + 1]\n",
    "\n",
    "        # Find the onsets that lie between the current and next peak\n",
    "        possible_onsets = [onset for onset in remaining_onsets if (peak < onset) and (onset < next_peak)]\n",
    "        # Find the onset that minimizes the distance to the next peak\n",
    "        closest_onset = min(possible_onsets, key=lambda x: abs(x - next_peak))\n",
    "        # Include the closest onset in the filtered list\n",
    "        filtered_onsets.append(closest_onset)\n",
    "        # Remove the chosen onset from the remaining onsets\n",
    "        remaining_onsets = [onset for onset in remaining_onsets if onset not in possible_onsets]\n",
    "\n",
    "    # Include the last onset in the filtered list\n",
    "    filtered_onsets.append(onsets[-1])\n",
    "\n",
    "    return filtered_onsets\n",
    "\n",
    "# Example usage:\n",
    "onsets = [1, 3, 5.5, 6, 8, 10]\n",
    "peaks = [2, 5, 7, 9]\n",
    "\n",
    "result = filter_onsets(onsets, peaks)\n",
    "print(result)"
   ]
  },
  {
   "cell_type": "code",
   "execution_count": null,
   "metadata": {},
   "outputs": [],
   "source": []
  }
 ],
 "metadata": {
  "kernelspec": {
   "display_name": "ppg",
   "language": "python",
   "name": "python3"
  },
  "language_info": {
   "codemirror_mode": {
    "name": "ipython",
    "version": 3
   },
   "file_extension": ".py",
   "mimetype": "text/x-python",
   "name": "python",
   "nbconvert_exporter": "python",
   "pygments_lexer": "ipython3",
   "version": "3.11.7"
  }
 },
 "nbformat": 4,
 "nbformat_minor": 2
}
